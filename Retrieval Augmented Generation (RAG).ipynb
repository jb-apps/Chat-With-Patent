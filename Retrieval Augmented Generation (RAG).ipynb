{
 "cells": [
  {
   "cell_type": "markdown",
   "id": "3ce95c57",
   "metadata": {},
   "source": [
    "# Codealong Notebook\n",
    "\n",
    "Use this notebook as your \"scratch pad\" as you go through the course contents. Feel free to copy any example code and tweak it to get a better understanding of how it works!\n",
    "\n",
    "Use the **+** button or `Insert` menu to add additional code cells as needed."
   ]
  },
  {
   "cell_type": "code",
   "execution_count": null,
   "id": "e9d3d53c",
   "metadata": {},
   "outputs": [],
   "source": [
    "#Uncomment this to use OpenAI directly\n",
    "#import openai\n",
    "#openai.api_key = \"Your OpenAI API key\"\n",
    "\n",
    "# I am using vocareum to access OpenAI, please comment this out if you are using OpenAI directly\n",
    "import getpass\n",
    "import os\n",
    "\n",
    "os.environ[\"OPENAI_API_BASE\"] = \"https://openai.vocareum.com/v1\"\n",
    "\n",
    "if \"OPENAI_API_KEY\" not in os.environ:\n",
    "    os.environ[\"OPENAI_API_KEY\"] = getpass.getpass(\"Enter your OpenAI API key: \")"
   ]
  },
  {
   "cell_type": "markdown",
   "id": "32bbc8b8",
   "metadata": {},
   "source": [
    "### Install PyPDF2 to extract text from PDFs"
   ]
  },
  {
   "cell_type": "code",
   "execution_count": null,
   "id": "fcfe62a9",
   "metadata": {},
   "outputs": [
    {
     "name": "stdout",
     "output_type": "stream",
     "text": [
      "Collecting PyPDF2\n",
      "  Using cached pypdf2-3.0.1-py3-none-any.whl.metadata (6.8 kB)\n",
      "Using cached pypdf2-3.0.1-py3-none-any.whl (232 kB)\n",
      "Installing collected packages: PyPDF2\n",
      "Successfully installed PyPDF2-3.0.1\n"
     ]
    }
   ],
   "source": [
    "!pip install PyPDF2"
   ]
  },
  {
   "cell_type": "markdown",
   "id": "9524bf22",
   "metadata": {},
   "source": [
    "## Helper function to extract text from PDFs"
   ]
  },
  {
   "cell_type": "code",
   "execution_count": 16,
   "id": "65c17774",
   "metadata": {},
   "outputs": [],
   "source": [
    "import PyPDF2\n",
    "import pandas as pd\n",
    "import re\n",
    "\n",
    "def extract_paragraphs_from_pdf(pdf_path):\n",
    "    # Initialize list to store paragraphs\n",
    "    paragraphs = []\n",
    "    \n",
    "    try:\n",
    "        # Open the PDF file\n",
    "        with open(pdf_path, 'rb') as file:\n",
    "            # Create PDF reader object\n",
    "            pdf_reader = PyPDF2.PdfReader(file)\n",
    "            \n",
    "            # Extract text from each page\n",
    "            for page in pdf_reader.pages:\n",
    "                text = page.extract_text()\n",
    "                \n",
    "                # Split text into paragraphs\n",
    "                # This splits on double line breaks and removes empty strings\n",
    "                page_paragraphs = [p.strip() for p in re.split(r'\\n\\s*\\n', text) if p.strip()]\n",
    "                paragraphs.extend(page_paragraphs)\n",
    "        \n",
    "        # Create DataFrame\n",
    "        df = pd.DataFrame({\n",
    "            'paragraph_id': range(len(paragraphs)),\n",
    "            'text': paragraphs,\n",
    "            'length': [len(p) for p in paragraphs]\n",
    "        })\n",
    "        \n",
    "        return df\n",
    "    \n",
    "    except FileNotFoundError:\n",
    "        print(\"Error: PDF file not found\")\n",
    "        return None\n",
    "    except Exception as e:\n",
    "        print(f\"Error: {str(e)}\")\n",
    "        return None"
   ]
  },
  {
   "cell_type": "markdown",
   "id": "38daefd2",
   "metadata": {},
   "source": [
    "### Extract text from a PDF file"
   ]
  },
  {
   "cell_type": "code",
   "execution_count": null,
   "id": "f5c53a99",
   "metadata": {},
   "outputs": [
    {
     "data": {
      "text/html": [
       "<div>\n",
       "<style scoped>\n",
       "    .dataframe tbody tr th:only-of-type {\n",
       "        vertical-align: middle;\n",
       "    }\n",
       "\n",
       "    .dataframe tbody tr th {\n",
       "        vertical-align: top;\n",
       "    }\n",
       "\n",
       "    .dataframe thead th {\n",
       "        text-align: right;\n",
       "    }\n",
       "</style>\n",
       "<table border=\"1\" class=\"dataframe\">\n",
       "  <thead>\n",
       "    <tr style=\"text-align: right;\">\n",
       "      <th></th>\n",
       "      <th>paragraph_id</th>\n",
       "      <th>text</th>\n",
       "      <th>length</th>\n",
       "    </tr>\n",
       "  </thead>\n",
       "  <tbody>\n",
       "    <tr>\n",
       "      <th>0</th>\n",
       "      <td>0</td>\n",
       "      <td>THE MAIN TEA ETA AUTOMAT U TEMAMA ANATUAN US 2...</td>\n",
       "      <td>1413</td>\n",
       "    </tr>\n",
       "    <tr>\n",
       "      <th>1</th>\n",
       "      <td>1</td>\n",
       "      <td>Patent Application Publication Oct . 4 , 2018 ...</td>\n",
       "      <td>93</td>\n",
       "    </tr>\n",
       "    <tr>\n",
       "      <th>2</th>\n",
       "      <td>2</td>\n",
       "      <td>Patent Application Publication Oct . 4 , 2018 ...</td>\n",
       "      <td>168</td>\n",
       "    </tr>\n",
       "    <tr>\n",
       "      <th>3</th>\n",
       "      <td>3</td>\n",
       "      <td>Patent Application Publication Oct . 4 , 2018 ...</td>\n",
       "      <td>142</td>\n",
       "    </tr>\n",
       "    <tr>\n",
       "      <th>4</th>\n",
       "      <td>4</td>\n",
       "      <td>Patent Application Publication Oct . 4 , 2018 ...</td>\n",
       "      <td>256</td>\n",
       "    </tr>\n",
       "  </tbody>\n",
       "</table>\n",
       "</div>"
      ],
      "text/plain": [
       "   paragraph_id                                               text  length\n",
       "0             0  THE MAIN TEA ETA AUTOMAT U TEMAMA ANATUAN US 2...    1413\n",
       "1             1  Patent Application Publication Oct . 4 , 2018 ...      93\n",
       "2             2  Patent Application Publication Oct . 4 , 2018 ...     168\n",
       "3             3  Patent Application Publication Oct . 4 , 2018 ...     142\n",
       "4             4  Patent Application Publication Oct . 4 , 2018 ...     256"
      ]
     },
     "execution_count": 18,
     "metadata": {},
     "output_type": "execute_result"
    }
   ],
   "source": [
    "# Use the function\n",
    "pdf_path = \"US20180282715A1.pdf\"\n",
    "df = extract_paragraphs_from_pdf(pdf_path)"
   ]
  },
  {
   "cell_type": "code",
   "execution_count": 25,
   "id": "6d48d70c",
   "metadata": {},
   "outputs": [
    {
     "data": {
      "text/html": [
       "<div>\n",
       "<style scoped>\n",
       "    .dataframe tbody tr th:only-of-type {\n",
       "        vertical-align: middle;\n",
       "    }\n",
       "\n",
       "    .dataframe tbody tr th {\n",
       "        vertical-align: top;\n",
       "    }\n",
       "\n",
       "    .dataframe thead th {\n",
       "        text-align: right;\n",
       "    }\n",
       "</style>\n",
       "<table border=\"1\" class=\"dataframe\">\n",
       "  <thead>\n",
       "    <tr style=\"text-align: right;\">\n",
       "      <th></th>\n",
       "      <th>paragraph_id</th>\n",
       "      <th>text</th>\n",
       "      <th>length</th>\n",
       "    </tr>\n",
       "  </thead>\n",
       "  <tbody>\n",
       "    <tr>\n",
       "      <th>0</th>\n",
       "      <td>0</td>\n",
       "      <td>THE MAIN TEA ETA AUTOMAT U TEMAMA ANATUAN US 2...</td>\n",
       "      <td>1413</td>\n",
       "    </tr>\n",
       "    <tr>\n",
       "      <th>1</th>\n",
       "      <td>1</td>\n",
       "      <td>Patent Application Publication Oct . 4 , 2018 ...</td>\n",
       "      <td>93</td>\n",
       "    </tr>\n",
       "    <tr>\n",
       "      <th>2</th>\n",
       "      <td>2</td>\n",
       "      <td>Patent Application Publication Oct . 4 , 2018 ...</td>\n",
       "      <td>168</td>\n",
       "    </tr>\n",
       "    <tr>\n",
       "      <th>3</th>\n",
       "      <td>3</td>\n",
       "      <td>Patent Application Publication Oct . 4 , 2018 ...</td>\n",
       "      <td>142</td>\n",
       "    </tr>\n",
       "    <tr>\n",
       "      <th>4</th>\n",
       "      <td>4</td>\n",
       "      <td>Patent Application Publication Oct . 4 , 2018 ...</td>\n",
       "      <td>256</td>\n",
       "    </tr>\n",
       "    <tr>\n",
       "      <th>5</th>\n",
       "      <td>5</td>\n",
       "      <td>Patent Application Publication Oct . 4 , 2018 ...</td>\n",
       "      <td>223</td>\n",
       "    </tr>\n",
       "    <tr>\n",
       "      <th>6</th>\n",
       "      <td>6</td>\n",
       "      <td>US 2018 / 0282715 A1 Oct . 4 , 2018 \\n NOVEL C...</td>\n",
       "      <td>6734</td>\n",
       "    </tr>\n",
       "    <tr>\n",
       "      <th>7</th>\n",
       "      <td>7</td>\n",
       "      <td>US 2018 / 0282715 A1 Oct . 4 , 2018 \\n cell , ...</td>\n",
       "      <td>7142</td>\n",
       "    </tr>\n",
       "    <tr>\n",
       "      <th>8</th>\n",
       "      <td>8</td>\n",
       "      <td>US 2018 / 0282715 A1 Oct . 4 , 2018 \\n referen...</td>\n",
       "      <td>7082</td>\n",
       "    </tr>\n",
       "    <tr>\n",
       "      <th>9</th>\n",
       "      <td>9</td>\n",
       "      <td>US 2018 / 0282715 A1 Oct . 4 , 2018 \\n limited...</td>\n",
       "      <td>7664</td>\n",
       "    </tr>\n",
       "  </tbody>\n",
       "</table>\n",
       "</div>"
      ],
      "text/plain": [
       "   paragraph_id                                               text  length\n",
       "0             0  THE MAIN TEA ETA AUTOMAT U TEMAMA ANATUAN US 2...    1413\n",
       "1             1  Patent Application Publication Oct . 4 , 2018 ...      93\n",
       "2             2  Patent Application Publication Oct . 4 , 2018 ...     168\n",
       "3             3  Patent Application Publication Oct . 4 , 2018 ...     142\n",
       "4             4  Patent Application Publication Oct . 4 , 2018 ...     256\n",
       "5             5  Patent Application Publication Oct . 4 , 2018 ...     223\n",
       "6             6  US 2018 / 0282715 A1 Oct . 4 , 2018 \\n NOVEL C...    6734\n",
       "7             7  US 2018 / 0282715 A1 Oct . 4 , 2018 \\n cell , ...    7142\n",
       "8             8  US 2018 / 0282715 A1 Oct . 4 , 2018 \\n referen...    7082\n",
       "9             9  US 2018 / 0282715 A1 Oct . 4 , 2018 \\n limited...    7664"
      ]
     },
     "execution_count": 25,
     "metadata": {},
     "output_type": "execute_result"
    }
   ],
   "source": [
    "\n",
    "df.head(10)"
   ]
  },
  {
   "cell_type": "markdown",
   "id": "a046ed51",
   "metadata": {},
   "source": [
    "### Fix indexes"
   ]
  },
  {
   "cell_type": "code",
   "execution_count": 32,
   "id": "9ca3c2cb",
   "metadata": {},
   "outputs": [
    {
     "name": "stdout",
     "output_type": "stream",
     "text": [
      "US 2018 / 0282715 A1 Oct . 4 , 2018 \n",
      " NOVEL CRISPR - ASSOCIATED ( CAS ) PROTEIN \n",
      " CROSS - REFERENCE TO RELATED \n",
      " APPLICATIONS \n",
      " [ 0001 ] This application claims the benefit under 35 U . S . C . $ 119 ( e ) ( 1 ) of U . S . Provisional Application Nos . 62 / 477 , 494 , filed 28 Mar . 2017 , and 62 / 629 , 641 , filed 12 Feb . 2018 , which applications are incorporated herein by reference in their entireties . \n",
      " TECHNICAL FIELD \n",
      " [ 0002 ] The present invention relates to Clustered Regu larly Interspaced Short Palindromic Repeats ( CRISPR ) sys \n",
      " tems . In particular , the invention relates to a new CRISPR associated ( Cas ) protein , termed “ CasM , ” and the uses of CasM for site - specific nucleic acid engineering . \n",
      " BACKGROUND OF THE INVENTION \n",
      " [ 0003 ] Clustered Regularly Interspaced Short Palindromic \n",
      " Repeats ( CRISPR ) and CRISPR - associated ( Cas ) proteins \n",
      " are found in prokaryotic immune systems . These systems \n",
      " provide resistance against exogenous genetic elements , such as viruses and plasmids , by targeting their nucleic acids for degradation , in a sequence - specific manner . \n",
      " [ 0004 ] There are several different CRISPR - Cas systems and the nomenclature and classification of these have changed as the systems have been characterized . In particu lar , CRISPR - Cas systems have now been reclassified into two classes , containing several types and subtypes ( Ma \n",
      " karova et al . , Nature Reviews Microbiology ( 2015 ) 13 : 1 - 15 ; Shmakov et al . , Nature Reviews Microbiology ( 2017 ) 15 : 169 - 182 ) . This classification is based upon identifying all cas genes in a CRISPR - Cas locus and then determining the \n",
      " signature genes in each CRISPR - Cas locus , thereby deter \n",
      " mining whether the CRISPR - Cas systems should be placed \n",
      " in either Class 1 or Class 2 based upon the genes encoding the effector module , i . e . , the proteins involved in the inter ference stage . \n",
      " [ 0005 ] There remains a need to discover and characterize new CRISPR - associated ( Cas ) proteins , and their potential use for site - specific nucleic acid engineering . [ 0008 ] In further embodiments , the invention is directed to a complex comprising a CasM protein , and a cognate nucleic \n",
      " acid guide . In certain embodiments , the cognate nucleic acid guide in the complex comprises a repeat sequence and a \n",
      " spacer sequence , wherein the repeat sequence and the spacer \n",
      " sequence do not naturally occur together . In certain embodi ments , the cognate nucleic acid guide comprises a modified base analog \n",
      " [ 0009 ] In additional embodiments , the cognate nucleic acid guide comprises RNA , such as , but not limited to , crRNA . In some embodiments , the cognate nucleic acid guide , such as crRNA , comprises a spacer sequence that is \n",
      " complementary to a DNA or RNA target sequence that occurs in a prokaryotic or eukaryotic cell . \n",
      " [ 0010 ] In further embodiments , the crRNA / CasM protein complex is capable of binding to a first RNA target sequence complementary to the crRNA spacer sequence , wherein binding of the crRNA / CasM protein complex results in the cleavage of a first RNA target . In additional embodiments , after cleavage of the first RNA target sequence by the crRNA / CasM protein complex , the complex is capable of \n",
      " non - specific endonuclease activity toward any single stranded RNA in a sequence independent manner . \n",
      " [ 0011 ] In further embodiments , the complex modifies the transcription or translation of a target locus in cell . \n",
      " [ 0012 ] In additional embodiments , the invention is directed to an isolated polynucleotide encoding a CasM protein , wherein the CasM protein is capable of producing a single - strand break at an RNA target site when guided to \n",
      " the RNA target site by a cognate nucleic acid guide . In \n",
      " certain embodiments , the cognate nucleic acid guide com \n",
      " prises RNA , such as crRNA . In additional embodiments , the \n",
      " CasM protein encoded by the polynucleotide comprises an \n",
      " amino acid sequence selected from the group consisting of \n",
      " the amino acid sequence of SEQ ID NOS : 37 - 44 or 45 ; an \n",
      " ortholog of the amino acid sequence of SEQ ID NOS : 37 - 44 or 45 , i . e . , a CasM sequence from a species other than the \n",
      " species producing the reference sequence ; and a variant of \n",
      " the amino acid sequence of SEQ ID NOS : 37 - 44 or 45 , e . g . , an active homolog of the reference amino acid sequence . \n",
      " [ 0013 ] In further embodiments , the invention is directed to a modified polynucleotide encoding a CasM protein , \n",
      " wherein the CasM protein is capable of producing a single \n",
      " strand break at an RNA target site when guided to the RNA target site by a cognate nucleic acid guide , wherein the \n",
      " polynucleotide is modified relative to its native sequence , \n",
      " such as modified for expression in a selected host cell . In \n",
      " additional embodiments , the CasM protein encoded by the polynucleotide comprises an amino acid sequence selected \n",
      " from the group consisting of the amino acid sequence of \n",
      " SEQ ID NOS : 37 - 44 or 45 ; an ortholog of the amino acid sequence of SEQ ID NOS : 37 - 44 or 45 , i . e . , a CasM sequence from a species other than the species producing the \n",
      " reference sequence ; and a variant of the amino acid sequence of SEQ ID NOS : 37 - 44 or 45 , e . g . , an active homolog of the reference amino acid sequence . \n",
      " [ 0014 ] In certain embodiments , the polynucleotide is modified for expression in a bacterial cell , such as for expression in an Escherichia coli cell . In certain embodi ments , the polynucleotide comprises the sequence of SEQ ill \n",
      " NOS : 2 - 8 or 9 . \n",
      " [ 0015 ] . In other embodiments , the polynucleotide is modi fied for expression in a eukaryotic cell , e . g . , a mammalian SUMMARY \n",
      " [ 0006 ] The present invention is based on the discovery of \n",
      " a new Cas protein , termed “ CasM ” herein . This protein shares no homology to any known Cas protein or to any known protein family . \n",
      " [ 0007 ] Accordingly , in one aspect , the invention is directed to an isolated CasM protein capable of producing a single - strand break at an RNA target site when guided to the RNA target site by a cognate nucleic acid guide . In certain embodiments , the cognate nucleic acid guide comprises \n",
      " RNA , such as crRNA . In additional embodiments , the CasM protein comprises an amino acid sequence selected from the group consisting of the amino acid sequence of SEQ ID NOS : 37 - 44 or 45 ; an ortholog of the amino acid sequence of \n",
      " SEQ ID NOS : 37 - 44 or 45 , i . e . , a CasM sequence from a species other than the species producing the reference sequence ; and a variant of the amino acid sequence of SEQ ID NOS : 37 - 44 or 45 , e . g . , an active homolog of the refer ence amino acid sequence .\n"
     ]
    }
   ],
   "source": [
    "print(df['text'][6])"
   ]
  },
  {
   "cell_type": "markdown",
   "id": "71419f8f",
   "metadata": {},
   "source": [
    "### save dataset locally"
   ]
  },
  {
   "cell_type": "code",
   "execution_count": 27,
   "id": "23baff99",
   "metadata": {},
   "outputs": [],
   "source": [
    "df.to_csv(\"crispr.csv\")"
   ]
  },
  {
   "cell_type": "markdown",
   "id": "f9e42ce2",
   "metadata": {},
   "source": [
    "## Creating an Embeddings Index"
   ]
  },
  {
   "cell_type": "code",
   "execution_count": 35,
   "id": "18fc43f0",
   "metadata": {},
   "outputs": [
    {
     "data": {
      "text/html": [
       "<div>\n",
       "<style scoped>\n",
       "    .dataframe tbody tr th:only-of-type {\n",
       "        vertical-align: middle;\n",
       "    }\n",
       "\n",
       "    .dataframe tbody tr th {\n",
       "        vertical-align: top;\n",
       "    }\n",
       "\n",
       "    .dataframe thead th {\n",
       "        text-align: right;\n",
       "    }\n",
       "</style>\n",
       "<table border=\"1\" class=\"dataframe\">\n",
       "  <thead>\n",
       "    <tr style=\"text-align: right;\">\n",
       "      <th></th>\n",
       "      <th>paragraph_id</th>\n",
       "      <th>text</th>\n",
       "      <th>length</th>\n",
       "    </tr>\n",
       "  </thead>\n",
       "  <tbody>\n",
       "    <tr>\n",
       "      <th>0</th>\n",
       "      <td>0</td>\n",
       "      <td>THE MAIN TEA ETA AUTOMAT U TEMAMA ANATUAN US 2...</td>\n",
       "      <td>1413</td>\n",
       "    </tr>\n",
       "    <tr>\n",
       "      <th>1</th>\n",
       "      <td>1</td>\n",
       "      <td>Patent Application Publication Oct . 4 , 2018 ...</td>\n",
       "      <td>93</td>\n",
       "    </tr>\n",
       "    <tr>\n",
       "      <th>2</th>\n",
       "      <td>2</td>\n",
       "      <td>Patent Application Publication Oct . 4 , 2018 ...</td>\n",
       "      <td>168</td>\n",
       "    </tr>\n",
       "    <tr>\n",
       "      <th>3</th>\n",
       "      <td>3</td>\n",
       "      <td>Patent Application Publication Oct . 4 , 2018 ...</td>\n",
       "      <td>142</td>\n",
       "    </tr>\n",
       "    <tr>\n",
       "      <th>4</th>\n",
       "      <td>4</td>\n",
       "      <td>Patent Application Publication Oct . 4 , 2018 ...</td>\n",
       "      <td>256</td>\n",
       "    </tr>\n",
       "    <tr>\n",
       "      <th>5</th>\n",
       "      <td>5</td>\n",
       "      <td>Patent Application Publication Oct . 4 , 2018 ...</td>\n",
       "      <td>223</td>\n",
       "    </tr>\n",
       "    <tr>\n",
       "      <th>6</th>\n",
       "      <td>6</td>\n",
       "      <td>US 2018 / 0282715 A1 Oct . 4 , 2018 \\n NOVEL C...</td>\n",
       "      <td>6734</td>\n",
       "    </tr>\n",
       "    <tr>\n",
       "      <th>7</th>\n",
       "      <td>7</td>\n",
       "      <td>US 2018 / 0282715 A1 Oct . 4 , 2018 \\n cell , ...</td>\n",
       "      <td>7142</td>\n",
       "    </tr>\n",
       "    <tr>\n",
       "      <th>8</th>\n",
       "      <td>8</td>\n",
       "      <td>US 2018 / 0282715 A1 Oct . 4 , 2018 \\n referen...</td>\n",
       "      <td>7082</td>\n",
       "    </tr>\n",
       "    <tr>\n",
       "      <th>9</th>\n",
       "      <td>9</td>\n",
       "      <td>US 2018 / 0282715 A1 Oct . 4 , 2018 \\n limited...</td>\n",
       "      <td>7664</td>\n",
       "    </tr>\n",
       "  </tbody>\n",
       "</table>\n",
       "</div>"
      ],
      "text/plain": [
       "   paragraph_id                                               text  length\n",
       "0             0  THE MAIN TEA ETA AUTOMAT U TEMAMA ANATUAN US 2...    1413\n",
       "1             1  Patent Application Publication Oct . 4 , 2018 ...      93\n",
       "2             2  Patent Application Publication Oct . 4 , 2018 ...     168\n",
       "3             3  Patent Application Publication Oct . 4 , 2018 ...     142\n",
       "4             4  Patent Application Publication Oct . 4 , 2018 ...     256\n",
       "5             5  Patent Application Publication Oct . 4 , 2018 ...     223\n",
       "6             6  US 2018 / 0282715 A1 Oct . 4 , 2018 \\n NOVEL C...    6734\n",
       "7             7  US 2018 / 0282715 A1 Oct . 4 , 2018 \\n cell , ...    7142\n",
       "8             8  US 2018 / 0282715 A1 Oct . 4 , 2018 \\n referen...    7082\n",
       "9             9  US 2018 / 0282715 A1 Oct . 4 , 2018 \\n limited...    7664"
      ]
     },
     "execution_count": 35,
     "metadata": {},
     "output_type": "execute_result"
    }
   ],
   "source": [
    "import pandas as pd\n",
    "df = pd.read_csv(\"crispr.csv\", index_col=0)\n",
    "df.head(10)"
   ]
  },
  {
   "cell_type": "markdown",
   "id": "7eff2773",
   "metadata": {},
   "source": [
    "### Creating an Embeddings Index with `openai.Embedding`"
   ]
  },
  {
   "cell_type": "markdown",
   "id": "b92fa8c6",
   "metadata": {},
   "source": [
    "### Dataframe with embeddings"
   ]
  },
  {
   "cell_type": "code",
   "execution_count": 48,
   "id": "72b7f51e",
   "metadata": {},
   "outputs": [],
   "source": [
    "from openai import OpenAI\n",
    "\n",
    "# Get API key if not set\n",
    "if \"OPENAI_API_KEY\" not in os.environ:\n",
    "    os.environ[\"OPENAI_API_KEY\"] = getpass.getpass(\"Enter your OpenAI API key: \")\n",
    "\n",
    "# Initialize OpenAI client with optional base URL\n",
    "client_kwargs = {\"api_key\": os.environ[\"OPENAI_API_KEY\"]}\n",
    "if \"OPENAI_API_BASE\" in os.environ:\n",
    "    client_kwargs[\"base_url\"] = os.environ[\"OPENAI_API_BASE\"]\n",
    "\n",
    "client = OpenAI(**client_kwargs)\n",
    "\n",
    "EMBEDDING_MODEL_NAME = \"text-embedding-ada-002\"\n",
    "\n",
    "def get_embeddings(texts):\n",
    "    try:\n",
    "        response = client.embeddings.create(\n",
    "            input=texts,\n",
    "            model=EMBEDDING_MODEL_NAME\n",
    "        )\n",
    "        return [embedding.embedding for embedding in response.data]\n",
    "    except Exception as e:\n",
    "        print(f\"Error creating embeddings: {e}\")\n",
    "        return None\n",
    "\n",
    "# Use with your DataFrame\n",
    "embeddings = get_embeddings(df[\"text\"].tolist())\n",
    "if embeddings:\n",
    "    df[\"embeddings\"] = embeddings"
   ]
  },
  {
   "cell_type": "markdown",
   "id": "b7aec254",
   "metadata": {},
   "source": [
    "### Check the embeddings"
   ]
  },
  {
   "cell_type": "code",
   "execution_count": 49,
   "id": "8d5405d9",
   "metadata": {},
   "outputs": [
    {
     "data": {
      "text/html": [
       "<div>\n",
       "<style scoped>\n",
       "    .dataframe tbody tr th:only-of-type {\n",
       "        vertical-align: middle;\n",
       "    }\n",
       "\n",
       "    .dataframe tbody tr th {\n",
       "        vertical-align: top;\n",
       "    }\n",
       "\n",
       "    .dataframe thead th {\n",
       "        text-align: right;\n",
       "    }\n",
       "</style>\n",
       "<table border=\"1\" class=\"dataframe\">\n",
       "  <thead>\n",
       "    <tr style=\"text-align: right;\">\n",
       "      <th></th>\n",
       "      <th>paragraph_id</th>\n",
       "      <th>text</th>\n",
       "      <th>length</th>\n",
       "      <th>embeddings</th>\n",
       "    </tr>\n",
       "  </thead>\n",
       "  <tbody>\n",
       "    <tr>\n",
       "      <th>0</th>\n",
       "      <td>0</td>\n",
       "      <td>THE MAIN TEA ETA AUTOMAT U TEMAMA ANATUAN US 2...</td>\n",
       "      <td>1413</td>\n",
       "      <td>[-0.044504206627607346, 0.0066853598691523075,...</td>\n",
       "    </tr>\n",
       "    <tr>\n",
       "      <th>1</th>\n",
       "      <td>1</td>\n",
       "      <td>Patent Application Publication Oct . 4 , 2018 ...</td>\n",
       "      <td>93</td>\n",
       "      <td>[-0.01686546765267849, 0.00898822396993637, 0....</td>\n",
       "    </tr>\n",
       "    <tr>\n",
       "      <th>2</th>\n",
       "      <td>2</td>\n",
       "      <td>Patent Application Publication Oct . 4 , 2018 ...</td>\n",
       "      <td>168</td>\n",
       "      <td>[-0.037664152681827545, 0.007959115318953991, ...</td>\n",
       "    </tr>\n",
       "    <tr>\n",
       "      <th>3</th>\n",
       "      <td>3</td>\n",
       "      <td>Patent Application Publication Oct . 4 , 2018 ...</td>\n",
       "      <td>142</td>\n",
       "      <td>[-0.028591148555278778, 0.003124697832390666, ...</td>\n",
       "    </tr>\n",
       "    <tr>\n",
       "      <th>4</th>\n",
       "      <td>4</td>\n",
       "      <td>Patent Application Publication Oct . 4 , 2018 ...</td>\n",
       "      <td>256</td>\n",
       "      <td>[-0.031801845878362656, -0.003988437354564667,...</td>\n",
       "    </tr>\n",
       "    <tr>\n",
       "      <th>5</th>\n",
       "      <td>5</td>\n",
       "      <td>Patent Application Publication Oct . 4 , 2018 ...</td>\n",
       "      <td>223</td>\n",
       "      <td>[-0.031520090997219086, -0.0033901638817042112...</td>\n",
       "    </tr>\n",
       "    <tr>\n",
       "      <th>6</th>\n",
       "      <td>6</td>\n",
       "      <td>US 2018 / 0282715 A1 Oct . 4 , 2018 \\n NOVEL C...</td>\n",
       "      <td>6734</td>\n",
       "      <td>[-0.03968781232833862, 0.006241672672331333, -...</td>\n",
       "    </tr>\n",
       "    <tr>\n",
       "      <th>7</th>\n",
       "      <td>7</td>\n",
       "      <td>US 2018 / 0282715 A1 Oct . 4 , 2018 \\n cell , ...</td>\n",
       "      <td>7142</td>\n",
       "      <td>[-0.04525245353579521, -0.008158625103533268, ...</td>\n",
       "    </tr>\n",
       "    <tr>\n",
       "      <th>8</th>\n",
       "      <td>8</td>\n",
       "      <td>US 2018 / 0282715 A1 Oct . 4 , 2018 \\n referen...</td>\n",
       "      <td>7082</td>\n",
       "      <td>[-0.03745700418949127, -0.0039087384939193726,...</td>\n",
       "    </tr>\n",
       "    <tr>\n",
       "      <th>9</th>\n",
       "      <td>9</td>\n",
       "      <td>US 2018 / 0282715 A1 Oct . 4 , 2018 \\n limited...</td>\n",
       "      <td>7664</td>\n",
       "      <td>[-0.04072467237710953, 0.004864649381488562, -...</td>\n",
       "    </tr>\n",
       "  </tbody>\n",
       "</table>\n",
       "</div>"
      ],
      "text/plain": [
       "   paragraph_id                                               text  length  \\\n",
       "0             0  THE MAIN TEA ETA AUTOMAT U TEMAMA ANATUAN US 2...    1413   \n",
       "1             1  Patent Application Publication Oct . 4 , 2018 ...      93   \n",
       "2             2  Patent Application Publication Oct . 4 , 2018 ...     168   \n",
       "3             3  Patent Application Publication Oct . 4 , 2018 ...     142   \n",
       "4             4  Patent Application Publication Oct . 4 , 2018 ...     256   \n",
       "5             5  Patent Application Publication Oct . 4 , 2018 ...     223   \n",
       "6             6  US 2018 / 0282715 A1 Oct . 4 , 2018 \\n NOVEL C...    6734   \n",
       "7             7  US 2018 / 0282715 A1 Oct . 4 , 2018 \\n cell , ...    7142   \n",
       "8             8  US 2018 / 0282715 A1 Oct . 4 , 2018 \\n referen...    7082   \n",
       "9             9  US 2018 / 0282715 A1 Oct . 4 , 2018 \\n limited...    7664   \n",
       "\n",
       "                                          embeddings  \n",
       "0  [-0.044504206627607346, 0.0066853598691523075,...  \n",
       "1  [-0.01686546765267849, 0.00898822396993637, 0....  \n",
       "2  [-0.037664152681827545, 0.007959115318953991, ...  \n",
       "3  [-0.028591148555278778, 0.003124697832390666, ...  \n",
       "4  [-0.031801845878362656, -0.003988437354564667,...  \n",
       "5  [-0.031520090997219086, -0.0033901638817042112...  \n",
       "6  [-0.03968781232833862, 0.006241672672331333, -...  \n",
       "7  [-0.04525245353579521, -0.008158625103533268, ...  \n",
       "8  [-0.03745700418949127, -0.0039087384939193726,...  \n",
       "9  [-0.04072467237710953, 0.004864649381488562, -...  "
      ]
     },
     "execution_count": 49,
     "metadata": {},
     "output_type": "execute_result"
    }
   ],
   "source": [
    "df.head(10)"
   ]
  },
  {
   "cell_type": "markdown",
   "id": "40cfe11b",
   "metadata": {},
   "source": [
    "### Saving new dataframe with the embeddings"
   ]
  },
  {
   "cell_type": "code",
   "execution_count": 50,
   "id": "275c1596",
   "metadata": {},
   "outputs": [],
   "source": [
    "df.to_csv(\"embeddings.csv\")"
   ]
  },
  {
   "cell_type": "markdown",
   "id": "bd7b7331",
   "metadata": {},
   "source": [
    "## Step 2"
   ]
  },
  {
   "cell_type": "markdown",
   "id": "2152dad6",
   "metadata": {},
   "source": [
    "### Finding Relevant Data with Cosine Similarity"
   ]
  },
  {
   "cell_type": "code",
   "execution_count": 51,
   "id": "8dbd7bdf",
   "metadata": {},
   "outputs": [
    {
     "data": {
      "text/html": [
       "<div>\n",
       "<style scoped>\n",
       "    .dataframe tbody tr th:only-of-type {\n",
       "        vertical-align: middle;\n",
       "    }\n",
       "\n",
       "    .dataframe tbody tr th {\n",
       "        vertical-align: top;\n",
       "    }\n",
       "\n",
       "    .dataframe thead th {\n",
       "        text-align: right;\n",
       "    }\n",
       "</style>\n",
       "<table border=\"1\" class=\"dataframe\">\n",
       "  <thead>\n",
       "    <tr style=\"text-align: right;\">\n",
       "      <th></th>\n",
       "      <th>paragraph_id</th>\n",
       "      <th>text</th>\n",
       "      <th>length</th>\n",
       "      <th>embeddings</th>\n",
       "    </tr>\n",
       "  </thead>\n",
       "  <tbody>\n",
       "    <tr>\n",
       "      <th>0</th>\n",
       "      <td>0</td>\n",
       "      <td>THE MAIN TEA ETA AUTOMAT U TEMAMA ANATUAN US 2...</td>\n",
       "      <td>1413</td>\n",
       "      <td>[-0.044504206627607346, 0.0066853598691523075,...</td>\n",
       "    </tr>\n",
       "    <tr>\n",
       "      <th>1</th>\n",
       "      <td>1</td>\n",
       "      <td>Patent Application Publication Oct . 4 , 2018 ...</td>\n",
       "      <td>93</td>\n",
       "      <td>[-0.01686546765267849, 0.00898822396993637, 0....</td>\n",
       "    </tr>\n",
       "    <tr>\n",
       "      <th>2</th>\n",
       "      <td>2</td>\n",
       "      <td>Patent Application Publication Oct . 4 , 2018 ...</td>\n",
       "      <td>168</td>\n",
       "      <td>[-0.037664152681827545, 0.007959115318953991, ...</td>\n",
       "    </tr>\n",
       "    <tr>\n",
       "      <th>3</th>\n",
       "      <td>3</td>\n",
       "      <td>Patent Application Publication Oct . 4 , 2018 ...</td>\n",
       "      <td>142</td>\n",
       "      <td>[-0.028591148555278778, 0.003124697832390666, ...</td>\n",
       "    </tr>\n",
       "    <tr>\n",
       "      <th>4</th>\n",
       "      <td>4</td>\n",
       "      <td>Patent Application Publication Oct . 4 , 2018 ...</td>\n",
       "      <td>256</td>\n",
       "      <td>[-0.031801845878362656, -0.003988437354564667,...</td>\n",
       "    </tr>\n",
       "    <tr>\n",
       "      <th>...</th>\n",
       "      <td>...</td>\n",
       "      <td>...</td>\n",
       "      <td>...</td>\n",
       "      <td>...</td>\n",
       "    </tr>\n",
       "    <tr>\n",
       "      <th>95</th>\n",
       "      <td>95</td>\n",
       "      <td>US 2018 / 0282715 Al Oct . 4 , 2018 90 \\n - co...</td>\n",
       "      <td>1945</td>\n",
       "      <td>[-0.020597120746970177, -0.011165442876517773,...</td>\n",
       "    </tr>\n",
       "    <tr>\n",
       "      <th>96</th>\n",
       "      <td>96</td>\n",
       "      <td>US 2018 / 0282715 Al Oct . 4 , 2018 \\n - conti...</td>\n",
       "      <td>2072</td>\n",
       "      <td>[-0.026444602757692337, -0.01601344905793667, ...</td>\n",
       "    </tr>\n",
       "    <tr>\n",
       "      <th>97</th>\n",
       "      <td>97</td>\n",
       "      <td>US 2018 / 0282715 Al Oct . 4 , 2018 92 . . \\n ...</td>\n",
       "      <td>1982</td>\n",
       "      <td>[-0.025891972705721855, -0.012279598042368889,...</td>\n",
       "    </tr>\n",
       "    <tr>\n",
       "      <th>98</th>\n",
       "      <td>98</td>\n",
       "      <td>US 2018 / 0282715 Al Oct . 4 , 2018 \\n - conti...</td>\n",
       "      <td>2086</td>\n",
       "      <td>[-0.028477206826210022, -0.03346458077430725, ...</td>\n",
       "    </tr>\n",
       "    <tr>\n",
       "      <th>99</th>\n",
       "      <td>99</td>\n",
       "      <td>US 2018 / 0282715 Al Oct . 4 , 2018 94 \\n - co...</td>\n",
       "      <td>2025</td>\n",
       "      <td>[-0.028812505304813385, -0.01886824518442154, ...</td>\n",
       "    </tr>\n",
       "  </tbody>\n",
       "</table>\n",
       "<p>100 rows × 4 columns</p>\n",
       "</div>"
      ],
      "text/plain": [
       "    paragraph_id                                               text  length  \\\n",
       "0              0  THE MAIN TEA ETA AUTOMAT U TEMAMA ANATUAN US 2...    1413   \n",
       "1              1  Patent Application Publication Oct . 4 , 2018 ...      93   \n",
       "2              2  Patent Application Publication Oct . 4 , 2018 ...     168   \n",
       "3              3  Patent Application Publication Oct . 4 , 2018 ...     142   \n",
       "4              4  Patent Application Publication Oct . 4 , 2018 ...     256   \n",
       "..           ...                                                ...     ...   \n",
       "95            95  US 2018 / 0282715 Al Oct . 4 , 2018 90 \\n - co...    1945   \n",
       "96            96  US 2018 / 0282715 Al Oct . 4 , 2018 \\n - conti...    2072   \n",
       "97            97  US 2018 / 0282715 Al Oct . 4 , 2018 92 . . \\n ...    1982   \n",
       "98            98  US 2018 / 0282715 Al Oct . 4 , 2018 \\n - conti...    2086   \n",
       "99            99  US 2018 / 0282715 Al Oct . 4 , 2018 94 \\n - co...    2025   \n",
       "\n",
       "                                           embeddings  \n",
       "0   [-0.044504206627607346, 0.0066853598691523075,...  \n",
       "1   [-0.01686546765267849, 0.00898822396993637, 0....  \n",
       "2   [-0.037664152681827545, 0.007959115318953991, ...  \n",
       "3   [-0.028591148555278778, 0.003124697832390666, ...  \n",
       "4   [-0.031801845878362656, -0.003988437354564667,...  \n",
       "..                                                ...  \n",
       "95  [-0.020597120746970177, -0.011165442876517773,...  \n",
       "96  [-0.026444602757692337, -0.01601344905793667, ...  \n",
       "97  [-0.025891972705721855, -0.012279598042368889,...  \n",
       "98  [-0.028477206826210022, -0.03346458077430725, ...  \n",
       "99  [-0.028812505304813385, -0.01886824518442154, ...  \n",
       "\n",
       "[100 rows x 4 columns]"
      ]
     },
     "execution_count": 51,
     "metadata": {},
     "output_type": "execute_result"
    }
   ],
   "source": [
    "import numpy as np\n",
    "\n",
    "df = pd.read_csv(\"embeddings.csv\", index_col=0)\n",
    "df[\"embeddings\"] = df[\"embeddings\"].apply(eval).apply(np.array)\n",
    "df"
   ]
  },
  {
   "cell_type": "code",
   "execution_count": 54,
   "id": "581fc320",
   "metadata": {},
   "outputs": [],
   "source": [
    "question = \"What is CRISPR?\"\n",
    "question_embedding = get_embeddings([question])[0]"
   ]
  },
  {
   "cell_type": "markdown",
   "id": "4d4b2894",
   "metadata": {},
   "source": [
    "### Asses similarity"
   ]
  },
  {
   "cell_type": "code",
   "execution_count": 56,
   "id": "06bfd6f7",
   "metadata": {},
   "outputs": [],
   "source": [
    "import numpy as np\n",
    "\n",
    "def distances_from_embeddings(query_embedding, embeddings, distance_metric=\"cosine\"):\n",
    "    \"\"\"Return the distances between a query embedding and a list of embeddings.\"\"\"\n",
    "    if distance_metric == \"cosine\":\n",
    "        # Normalize the embeddings\n",
    "        query_embedding = query_embedding / np.linalg.norm(query_embedding)\n",
    "        embeddings = [e / np.linalg.norm(e) for e in embeddings]\n",
    "        \n",
    "        # Calculate cosine similarity\n",
    "        similarities = [np.dot(query_embedding, embedding) for embedding in embeddings]\n",
    "        \n",
    "        # Convert to distances (1 - similarity)\n",
    "        return [1 - s for s in similarities]\n",
    "    else:\n",
    "        raise ValueError(f\"Unsupported distance metric: {distance_metric}\")"
   ]
  },
  {
   "cell_type": "code",
   "execution_count": 59,
   "id": "397760fe",
   "metadata": {},
   "outputs": [
    {
     "data": {
      "text/plain": [
       "[0.17378298831315253,\n",
       " 0.2756749960358714,\n",
       " 0.29949330899129634,\n",
       " 0.2802443348338546,\n",
       " 0.2860481106739243,\n",
       " 0.2907269660759454,\n",
       " 0.16586018915831846,\n",
       " 0.2132141295451997,\n",
       " 0.19827465526139043,\n",
       " 0.20786868111961032,\n",
       " 0.23243462353429512,\n",
       " 0.2556178604781738,\n",
       " 0.21869135323193734,\n",
       " 0.2337948058831204,\n",
       " 0.2376913264030145,\n",
       " 0.19462048196206183,\n",
       " 0.16606427926304823,\n",
       " 0.17618794844386998,\n",
       " 0.1905401816890251,\n",
       " 0.23424776627530441,\n",
       " 0.23567340454178076,\n",
       " 0.20113750121921192,\n",
       " 0.22338363048601872,\n",
       " 0.21021963059193094,\n",
       " 0.22302772806427107,\n",
       " 0.1820966416400509,\n",
       " 0.1777380861589155,\n",
       " 0.19976166374577398,\n",
       " 0.21295422199339287,\n",
       " 0.22174568652006488,\n",
       " 0.24629971628271374,\n",
       " 0.25162697357354435,\n",
       " 0.28335888332532,\n",
       " 0.2897478061293399,\n",
       " 0.2956850662295447,\n",
       " 0.27997960946033185,\n",
       " 0.2815042028138569,\n",
       " 0.273354976958492,\n",
       " 0.2860451423952237,\n",
       " 0.28108405021543104,\n",
       " 0.2739315399290936,\n",
       " 0.28898658938533406,\n",
       " 0.28039716621691024,\n",
       " 0.2711576450363099,\n",
       " 0.2825557138924599,\n",
       " 0.2913701452015016,\n",
       " 0.2808778282108083,\n",
       " 0.27740457147517716,\n",
       " 0.27173425638269444,\n",
       " 0.2898626434945607,\n",
       " 0.2775596057716514,\n",
       " 0.28011344562283336,\n",
       " 0.28367833188956204,\n",
       " 0.2525970098995939,\n",
       " 0.2771022804149351,\n",
       " 0.2757611922815528,\n",
       " 0.3001827752220797,\n",
       " 0.27622137345653197,\n",
       " 0.27058266089367145,\n",
       " 0.2601942268603916,\n",
       " 0.28535664049733034,\n",
       " 0.27100542425172236,\n",
       " 0.2788296930955425,\n",
       " 0.3047158682673472,\n",
       " 0.2484828204319104,\n",
       " 0.2727236391225176,\n",
       " 0.2691832810812096,\n",
       " 0.2856827511337048,\n",
       " 0.275721375385378,\n",
       " 0.2843457514952161,\n",
       " 0.28011302598362764,\n",
       " 0.29347529440566444,\n",
       " 0.2937303093849254,\n",
       " 0.2935002274585249,\n",
       " 0.2981969561734431,\n",
       " 0.288743249707073,\n",
       " 0.28325433651693244,\n",
       " 0.27745296375586337,\n",
       " 0.28060576317169383,\n",
       " 0.284907801479485,\n",
       " 0.2893000136769853,\n",
       " 0.2885358603811732,\n",
       " 0.2918710757714549,\n",
       " 0.2873590800677922,\n",
       " 0.2871067454595595,\n",
       " 0.2884489739839382,\n",
       " 0.2904546655639738,\n",
       " 0.28827229166353063,\n",
       " 0.268516415324472,\n",
       " 0.29416401086632515,\n",
       " 0.28459023317647447,\n",
       " 0.29151922788686657,\n",
       " 0.2828910041357138,\n",
       " 0.28714516783809974,\n",
       " 0.28976518325686595,\n",
       " 0.2819646227346764,\n",
       " 0.2999420210085111,\n",
       " 0.28946109754627747,\n",
       " 0.28117929516665163,\n",
       " 0.2932869383914166]"
      ]
     },
     "execution_count": 59,
     "metadata": {},
     "output_type": "execute_result"
    }
   ],
   "source": [
    "distances = distances_from_embeddings(question_embedding, df[\"embeddings\"].tolist())\n",
    "distances"
   ]
  },
  {
   "cell_type": "code",
   "execution_count": 60,
   "id": "d34b96ea",
   "metadata": {},
   "outputs": [
    {
     "data": {
      "text/html": [
       "<div>\n",
       "<style scoped>\n",
       "    .dataframe tbody tr th:only-of-type {\n",
       "        vertical-align: middle;\n",
       "    }\n",
       "\n",
       "    .dataframe tbody tr th {\n",
       "        vertical-align: top;\n",
       "    }\n",
       "\n",
       "    .dataframe thead th {\n",
       "        text-align: right;\n",
       "    }\n",
       "</style>\n",
       "<table border=\"1\" class=\"dataframe\">\n",
       "  <thead>\n",
       "    <tr style=\"text-align: right;\">\n",
       "      <th></th>\n",
       "      <th>paragraph_id</th>\n",
       "      <th>text</th>\n",
       "      <th>length</th>\n",
       "      <th>embeddings</th>\n",
       "      <th>distances</th>\n",
       "    </tr>\n",
       "  </thead>\n",
       "  <tbody>\n",
       "    <tr>\n",
       "      <th>0</th>\n",
       "      <td>0</td>\n",
       "      <td>THE MAIN TEA ETA AUTOMAT U TEMAMA ANATUAN US 2...</td>\n",
       "      <td>1413</td>\n",
       "      <td>[-0.044504206627607346, 0.0066853598691523075,...</td>\n",
       "      <td>0.173783</td>\n",
       "    </tr>\n",
       "    <tr>\n",
       "      <th>1</th>\n",
       "      <td>1</td>\n",
       "      <td>Patent Application Publication Oct . 4 , 2018 ...</td>\n",
       "      <td>93</td>\n",
       "      <td>[-0.01686546765267849, 0.00898822396993637, 0....</td>\n",
       "      <td>0.275675</td>\n",
       "    </tr>\n",
       "    <tr>\n",
       "      <th>2</th>\n",
       "      <td>2</td>\n",
       "      <td>Patent Application Publication Oct . 4 , 2018 ...</td>\n",
       "      <td>168</td>\n",
       "      <td>[-0.037664152681827545, 0.007959115318953991, ...</td>\n",
       "      <td>0.299493</td>\n",
       "    </tr>\n",
       "    <tr>\n",
       "      <th>3</th>\n",
       "      <td>3</td>\n",
       "      <td>Patent Application Publication Oct . 4 , 2018 ...</td>\n",
       "      <td>142</td>\n",
       "      <td>[-0.028591148555278778, 0.003124697832390666, ...</td>\n",
       "      <td>0.280244</td>\n",
       "    </tr>\n",
       "    <tr>\n",
       "      <th>4</th>\n",
       "      <td>4</td>\n",
       "      <td>Patent Application Publication Oct . 4 , 2018 ...</td>\n",
       "      <td>256</td>\n",
       "      <td>[-0.031801845878362656, -0.003988437354564667,...</td>\n",
       "      <td>0.286048</td>\n",
       "    </tr>\n",
       "    <tr>\n",
       "      <th>5</th>\n",
       "      <td>5</td>\n",
       "      <td>Patent Application Publication Oct . 4 , 2018 ...</td>\n",
       "      <td>223</td>\n",
       "      <td>[-0.031520090997219086, -0.0033901638817042112...</td>\n",
       "      <td>0.290727</td>\n",
       "    </tr>\n",
       "    <tr>\n",
       "      <th>6</th>\n",
       "      <td>6</td>\n",
       "      <td>US 2018 / 0282715 A1 Oct . 4 , 2018 \\n NOVEL C...</td>\n",
       "      <td>6734</td>\n",
       "      <td>[-0.03968781232833862, 0.006241672672331333, -...</td>\n",
       "      <td>0.165860</td>\n",
       "    </tr>\n",
       "    <tr>\n",
       "      <th>7</th>\n",
       "      <td>7</td>\n",
       "      <td>US 2018 / 0282715 A1 Oct . 4 , 2018 \\n cell , ...</td>\n",
       "      <td>7142</td>\n",
       "      <td>[-0.04525245353579521, -0.008158625103533268, ...</td>\n",
       "      <td>0.213214</td>\n",
       "    </tr>\n",
       "    <tr>\n",
       "      <th>8</th>\n",
       "      <td>8</td>\n",
       "      <td>US 2018 / 0282715 A1 Oct . 4 , 2018 \\n referen...</td>\n",
       "      <td>7082</td>\n",
       "      <td>[-0.03745700418949127, -0.0039087384939193726,...</td>\n",
       "      <td>0.198275</td>\n",
       "    </tr>\n",
       "    <tr>\n",
       "      <th>9</th>\n",
       "      <td>9</td>\n",
       "      <td>US 2018 / 0282715 A1 Oct . 4 , 2018 \\n limited...</td>\n",
       "      <td>7664</td>\n",
       "      <td>[-0.04072467237710953, 0.004864649381488562, -...</td>\n",
       "      <td>0.207869</td>\n",
       "    </tr>\n",
       "  </tbody>\n",
       "</table>\n",
       "</div>"
      ],
      "text/plain": [
       "   paragraph_id                                               text  length  \\\n",
       "0             0  THE MAIN TEA ETA AUTOMAT U TEMAMA ANATUAN US 2...    1413   \n",
       "1             1  Patent Application Publication Oct . 4 , 2018 ...      93   \n",
       "2             2  Patent Application Publication Oct . 4 , 2018 ...     168   \n",
       "3             3  Patent Application Publication Oct . 4 , 2018 ...     142   \n",
       "4             4  Patent Application Publication Oct . 4 , 2018 ...     256   \n",
       "5             5  Patent Application Publication Oct . 4 , 2018 ...     223   \n",
       "6             6  US 2018 / 0282715 A1 Oct . 4 , 2018 \\n NOVEL C...    6734   \n",
       "7             7  US 2018 / 0282715 A1 Oct . 4 , 2018 \\n cell , ...    7142   \n",
       "8             8  US 2018 / 0282715 A1 Oct . 4 , 2018 \\n referen...    7082   \n",
       "9             9  US 2018 / 0282715 A1 Oct . 4 , 2018 \\n limited...    7664   \n",
       "\n",
       "                                          embeddings  distances  \n",
       "0  [-0.044504206627607346, 0.0066853598691523075,...   0.173783  \n",
       "1  [-0.01686546765267849, 0.00898822396993637, 0....   0.275675  \n",
       "2  [-0.037664152681827545, 0.007959115318953991, ...   0.299493  \n",
       "3  [-0.028591148555278778, 0.003124697832390666, ...   0.280244  \n",
       "4  [-0.031801845878362656, -0.003988437354564667,...   0.286048  \n",
       "5  [-0.031520090997219086, -0.0033901638817042112...   0.290727  \n",
       "6  [-0.03968781232833862, 0.006241672672331333, -...   0.165860  \n",
       "7  [-0.04525245353579521, -0.008158625103533268, ...   0.213214  \n",
       "8  [-0.03745700418949127, -0.0039087384939193726,...   0.198275  \n",
       "9  [-0.04072467237710953, 0.004864649381488562, -...   0.207869  "
      ]
     },
     "execution_count": 60,
     "metadata": {},
     "output_type": "execute_result"
    }
   ],
   "source": [
    "df[\"distances\"] = distances\n",
    "df.head(10)"
   ]
  },
  {
   "cell_type": "code",
   "execution_count": 61,
   "id": "5c465fe1",
   "metadata": {},
   "outputs": [],
   "source": [
    "df.to_csv(\"distances.csv\")"
   ]
  },
  {
   "cell_type": "markdown",
   "id": "a248ae36",
   "metadata": {},
   "source": [
    "### Wrapped in a function"
   ]
  },
  {
   "cell_type": "code",
   "execution_count": 66,
   "id": "a510e8cc",
   "metadata": {},
   "outputs": [],
   "source": [
    "def get_rows_sorted_by_relevance(question, df):\n",
    "    \"\"\"\n",
    "    Function that takes in a question string and a dataframe containing\n",
    "    rows of text and associated embeddings, and returns that dataframe\n",
    "    sorted from least to most relevant for that question\n",
    "    \"\"\"\n",
    "\n",
    "    # Get embeddings for the question text\n",
    "    question_embeddings = get_embeddings(question)[0]\n",
    "\n",
    "    # Make a copy of the dataframe and add a \"distances\" column containing\n",
    "    # the cosine distances between each row's embeddings and the\n",
    "    # embeddings of the question\n",
    "    df_copy = df.copy()\n",
    "    df_copy[\"distances\"] = distances_from_embeddings(\n",
    "        question_embeddings,\n",
    "        df_copy[\"embeddings\"].values\n",
    "    )\n",
    "\n",
    "    # Sort the copied dataframe by the distances and return it\n",
    "    # (shorter distance = more relevant so we sort in ascending order)\n",
    "    df_copy.sort_values(\"distances\", ascending=True, inplace=True)\n",
    "    return df_copy"
   ]
  },
  {
   "cell_type": "markdown",
   "id": "cdb8e685",
   "metadata": {},
   "source": [
    "### Testing the function to get embeddings"
   ]
  },
  {
   "cell_type": "code",
   "execution_count": 68,
   "id": "887531d3",
   "metadata": {},
   "outputs": [
    {
     "data": {
      "text/html": [
       "<div>\n",
       "<style scoped>\n",
       "    .dataframe tbody tr th:only-of-type {\n",
       "        vertical-align: middle;\n",
       "    }\n",
       "\n",
       "    .dataframe tbody tr th {\n",
       "        vertical-align: top;\n",
       "    }\n",
       "\n",
       "    .dataframe thead th {\n",
       "        text-align: right;\n",
       "    }\n",
       "</style>\n",
       "<table border=\"1\" class=\"dataframe\">\n",
       "  <thead>\n",
       "    <tr style=\"text-align: right;\">\n",
       "      <th></th>\n",
       "      <th>paragraph_id</th>\n",
       "      <th>text</th>\n",
       "      <th>length</th>\n",
       "      <th>embeddings</th>\n",
       "      <th>distances</th>\n",
       "    </tr>\n",
       "  </thead>\n",
       "  <tbody>\n",
       "    <tr>\n",
       "      <th>6</th>\n",
       "      <td>6</td>\n",
       "      <td>US 2018 / 0282715 A1 Oct . 4 , 2018 \\n NOVEL C...</td>\n",
       "      <td>6734</td>\n",
       "      <td>[-0.03968781232833862, 0.006241672672331333, -...</td>\n",
       "      <td>0.165860</td>\n",
       "    </tr>\n",
       "    <tr>\n",
       "      <th>16</th>\n",
       "      <td>16</td>\n",
       "      <td>US 2018 / 0282715 A1 Oct . 4 , 2018 \\n se case...</td>\n",
       "      <td>7453</td>\n",
       "      <td>[-0.029295915737748146, 0.0044411360286176205,...</td>\n",
       "      <td>0.166064</td>\n",
       "    </tr>\n",
       "    <tr>\n",
       "      <th>0</th>\n",
       "      <td>0</td>\n",
       "      <td>THE MAIN TEA ETA AUTOMAT U TEMAMA ANATUAN US 2...</td>\n",
       "      <td>1413</td>\n",
       "      <td>[-0.044504206627607346, 0.0066853598691523075,...</td>\n",
       "      <td>0.173783</td>\n",
       "    </tr>\n",
       "    <tr>\n",
       "      <th>17</th>\n",
       "      <td>17</td>\n",
       "      <td>US 2018 / 0282715 A1 Oct . 4 , 2018 \\n possess...</td>\n",
       "      <td>7678</td>\n",
       "      <td>[-0.04011465236544609, -0.006061012391000986, ...</td>\n",
       "      <td>0.176188</td>\n",
       "    </tr>\n",
       "    <tr>\n",
       "      <th>26</th>\n",
       "      <td>26</td>\n",
       "      <td>US 2018 / 0282715 A1 Oct . 4 , 2018 \\n 21 \\n T...</td>\n",
       "      <td>5037</td>\n",
       "      <td>[-0.018203414976596832, 0.01511384453624487, -...</td>\n",
       "      <td>0.177738</td>\n",
       "    </tr>\n",
       "    <tr>\n",
       "      <th>25</th>\n",
       "      <td>25</td>\n",
       "      <td>US 2018 / 0282715 A1 Oct . 4 , 2018 \\n 20 \\n E...</td>\n",
       "      <td>5554</td>\n",
       "      <td>[-0.03702671825885773, 0.01751861162483692, -0...</td>\n",
       "      <td>0.182097</td>\n",
       "    </tr>\n",
       "    <tr>\n",
       "      <th>18</th>\n",
       "      <td>18</td>\n",
       "      <td>US 2018 / 0282715 A1 Oct . 4 , 2018 \\n known C...</td>\n",
       "      <td>6824</td>\n",
       "      <td>[-0.01835833676159382, -0.007091736886650324, ...</td>\n",
       "      <td>0.190540</td>\n",
       "    </tr>\n",
       "    <tr>\n",
       "      <th>15</th>\n",
       "      <td>15</td>\n",
       "      <td>US 2018 / 0282715 A1 Oct . 4 , 2018 \\n geese ;...</td>\n",
       "      <td>7742</td>\n",
       "      <td>[-0.03625903278589249, -0.022521305829286575, ...</td>\n",
       "      <td>0.194620</td>\n",
       "    </tr>\n",
       "    <tr>\n",
       "      <th>8</th>\n",
       "      <td>8</td>\n",
       "      <td>US 2018 / 0282715 A1 Oct . 4 , 2018 \\n referen...</td>\n",
       "      <td>7082</td>\n",
       "      <td>[-0.03745700418949127, -0.0039087384939193726,...</td>\n",
       "      <td>0.198275</td>\n",
       "    </tr>\n",
       "    <tr>\n",
       "      <th>27</th>\n",
       "      <td>27</td>\n",
       "      <td>US 2018 / 0282715 A1 Oct . 4 , 2018 \\n [ 0208 ...</td>\n",
       "      <td>4980</td>\n",
       "      <td>[-0.025646647438406944, 0.01512566115707159, -...</td>\n",
       "      <td>0.199762</td>\n",
       "    </tr>\n",
       "  </tbody>\n",
       "</table>\n",
       "</div>"
      ],
      "text/plain": [
       "    paragraph_id                                               text  length  \\\n",
       "6              6  US 2018 / 0282715 A1 Oct . 4 , 2018 \\n NOVEL C...    6734   \n",
       "16            16  US 2018 / 0282715 A1 Oct . 4 , 2018 \\n se case...    7453   \n",
       "0              0  THE MAIN TEA ETA AUTOMAT U TEMAMA ANATUAN US 2...    1413   \n",
       "17            17  US 2018 / 0282715 A1 Oct . 4 , 2018 \\n possess...    7678   \n",
       "26            26  US 2018 / 0282715 A1 Oct . 4 , 2018 \\n 21 \\n T...    5037   \n",
       "25            25  US 2018 / 0282715 A1 Oct . 4 , 2018 \\n 20 \\n E...    5554   \n",
       "18            18  US 2018 / 0282715 A1 Oct . 4 , 2018 \\n known C...    6824   \n",
       "15            15  US 2018 / 0282715 A1 Oct . 4 , 2018 \\n geese ;...    7742   \n",
       "8              8  US 2018 / 0282715 A1 Oct . 4 , 2018 \\n referen...    7082   \n",
       "27            27  US 2018 / 0282715 A1 Oct . 4 , 2018 \\n [ 0208 ...    4980   \n",
       "\n",
       "                                           embeddings  distances  \n",
       "6   [-0.03968781232833862, 0.006241672672331333, -...   0.165860  \n",
       "16  [-0.029295915737748146, 0.0044411360286176205,...   0.166064  \n",
       "0   [-0.044504206627607346, 0.0066853598691523075,...   0.173783  \n",
       "17  [-0.04011465236544609, -0.006061012391000986, ...   0.176188  \n",
       "26  [-0.018203414976596832, 0.01511384453624487, -...   0.177738  \n",
       "25  [-0.03702671825885773, 0.01751861162483692, -0...   0.182097  \n",
       "18  [-0.01835833676159382, -0.007091736886650324, ...   0.190540  \n",
       "15  [-0.03625903278589249, -0.022521305829286575, ...   0.194620  \n",
       "8   [-0.03745700418949127, -0.0039087384939193726,...   0.198275  \n",
       "27  [-0.025646647438406944, 0.01512566115707159, -...   0.199762  "
      ]
     },
     "execution_count": 68,
     "metadata": {},
     "output_type": "execute_result"
    }
   ],
   "source": [
    "df = get_rows_sorted_by_relevance(question, df)\n",
    "df.head(10)"
   ]
  },
  {
   "cell_type": "markdown",
   "id": "699486f6",
   "metadata": {},
   "source": [
    "## Step 3"
   ]
  },
  {
   "cell_type": "markdown",
   "id": "6e3716d6",
   "metadata": {},
   "source": [
    "### Tokenizing with `tiktoken`\n",
    "\n",
    "Tiktoken is OpenAI's tokenizer library that helps count and split text into tokens the way OpenAI's models do. It's especially useful for:\n",
    "\n",
    "Counting tokens before making API calls\n",
    "Staying within model context limits\n",
    "Understanding how text will be processed by models like GPT-3.5 and GPT-4"
   ]
  },
  {
   "cell_type": "code",
   "execution_count": 70,
   "id": "3fb6604c",
   "metadata": {},
   "outputs": [
    {
     "name": "stdout",
     "output_type": "stream",
     "text": [
      "Requirement already satisfied: tiktoken in /Users/jbenavidesv/miniconda3/lib/python3.11/site-packages (0.9.0)\n",
      "Requirement already satisfied: regex>=2022.1.18 in /Users/jbenavidesv/miniconda3/lib/python3.11/site-packages (from tiktoken) (2024.11.6)\n",
      "Requirement already satisfied: requests>=2.26.0 in /Users/jbenavidesv/miniconda3/lib/python3.11/site-packages (from tiktoken) (2.31.0)\n",
      "Requirement already satisfied: charset-normalizer<4,>=2 in /Users/jbenavidesv/miniconda3/lib/python3.11/site-packages (from requests>=2.26.0->tiktoken) (2.0.4)\n",
      "Requirement already satisfied: idna<4,>=2.5 in /Users/jbenavidesv/miniconda3/lib/python3.11/site-packages (from requests>=2.26.0->tiktoken) (3.4)\n",
      "Requirement already satisfied: urllib3<3,>=1.21.1 in /Users/jbenavidesv/miniconda3/lib/python3.11/site-packages (from requests>=2.26.0->tiktoken) (1.26.18)\n",
      "Requirement already satisfied: certifi>=2017.4.17 in /Users/jbenavidesv/miniconda3/lib/python3.11/site-packages (from requests>=2.26.0->tiktoken) (2025.1.31)\n"
     ]
    }
   ],
   "source": [
    "!pip install tiktoken"
   ]
  },
  {
   "cell_type": "code",
   "execution_count": 71,
   "id": "e969fa22",
   "metadata": {},
   "outputs": [],
   "source": [
    "import tiktoken"
   ]
  },
  {
   "cell_type": "code",
   "execution_count": 72,
   "id": "ab51ffec",
   "metadata": {},
   "outputs": [],
   "source": [
    "tokenizer = tiktoken.get_encoding(\"cl100k_base\")"
   ]
  },
  {
   "cell_type": "code",
   "execution_count": 76,
   "id": "c839ccba",
   "metadata": {},
   "outputs": [],
   "source": [
    "question = \"What is CRISPR?\""
   ]
  },
  {
   "cell_type": "code",
   "execution_count": 79,
   "id": "9a3da801",
   "metadata": {},
   "outputs": [],
   "source": [
    "tokens = tokenizer.encode(question)"
   ]
  },
  {
   "cell_type": "code",
   "execution_count": 80,
   "id": "ec649e9d",
   "metadata": {},
   "outputs": [
    {
     "data": {
      "text/plain": [
       "6"
      ]
     },
     "execution_count": 80,
     "metadata": {},
     "output_type": "execute_result"
    }
   ],
   "source": [
    "len(tokens)"
   ]
  },
  {
   "cell_type": "markdown",
   "id": "a65d6d19",
   "metadata": {},
   "source": [
    "### Composing a Custom Text Prompt"
   ]
  },
  {
   "cell_type": "code",
   "execution_count": 83,
   "id": "c9c35486",
   "metadata": {},
   "outputs": [],
   "source": [
    "prompt_template = \"\"\"\n",
    "Answer the question based on the context below, and if the question\n",
    "can't be answered based on the context, say \"I don't know\"\n",
    "\n",
    "Context:\n",
    "{}\n",
    "\n",
    "---\n",
    "Question: {}\n",
    "Answer: \"\"\""
   ]
  },
  {
   "cell_type": "code",
   "execution_count": 84,
   "id": "d86f7502",
   "metadata": {},
   "outputs": [],
   "source": [
    "question = \"What is CRISPR?\""
   ]
  },
  {
   "cell_type": "code",
   "execution_count": 86,
   "id": "99c482c5",
   "metadata": {},
   "outputs": [
    {
     "name": "stdout",
     "output_type": "stream",
     "text": [
      "\n",
      "Answer the question based on the context below, and if the question\n",
      "can't be answered based on the context, say \"I don't know\"\n",
      "\n",
      "Context:\n",
      "here we have to add our new context\n",
      "\n",
      "---\n",
      "Question: What is CRISPR?\n",
      "Answer: \n"
     ]
    }
   ],
   "source": [
    "print(prompt_template.format(\"here we have to add our new context\", question))"
   ]
  },
  {
   "cell_type": "code",
   "execution_count": 87,
   "id": "01ccc0ac",
   "metadata": {},
   "outputs": [],
   "source": [
    "max_token_count = 1000 #depends on the model actually"
   ]
  },
  {
   "cell_type": "markdown",
   "id": "3fd8699a",
   "metadata": {},
   "source": [
    "### How do we check whether our prompt is underneath that cap?\n",
    "\n",
    "1. First, we need to count the number of tokens in the template and the question itself."
   ]
  },
  {
   "cell_type": "code",
   "execution_count": 88,
   "id": "adbb2513",
   "metadata": {},
   "outputs": [],
   "source": [
    "tokenizer = tiktoken.get_encoding(\"cl100k_base\")"
   ]
  },
  {
   "cell_type": "code",
   "execution_count": 89,
   "id": "548cd45f",
   "metadata": {},
   "outputs": [
    {
     "data": {
      "text/plain": [
       "47"
      ]
     },
     "execution_count": 89,
     "metadata": {},
     "output_type": "execute_result"
    }
   ],
   "source": [
    "question_tokens = len(tokenizer.encode(question))\n",
    "template_tokens = len(tokenizer.encode(prompt_template))\n",
    "current_token_count = question_tokens + template_tokens\n",
    "current_token_count"
   ]
  },
  {
   "cell_type": "markdown",
   "id": "d6fdeb91",
   "metadata": {},
   "source": [
    "**We have 47 tokens, we can have up to 1000 - 47 = 953 tokens for the context**"
   ]
  },
  {
   "cell_type": "code",
   "execution_count": 90,
   "id": "da13f5c3",
   "metadata": {},
   "outputs": [],
   "source": [
    "context = []"
   ]
  },
  {
   "cell_type": "code",
   "execution_count": 91,
   "id": "3c8f6f0b",
   "metadata": {},
   "outputs": [
    {
     "data": {
      "text/html": [
       "<div>\n",
       "<style scoped>\n",
       "    .dataframe tbody tr th:only-of-type {\n",
       "        vertical-align: middle;\n",
       "    }\n",
       "\n",
       "    .dataframe tbody tr th {\n",
       "        vertical-align: top;\n",
       "    }\n",
       "\n",
       "    .dataframe thead th {\n",
       "        text-align: right;\n",
       "    }\n",
       "</style>\n",
       "<table border=\"1\" class=\"dataframe\">\n",
       "  <thead>\n",
       "    <tr style=\"text-align: right;\">\n",
       "      <th></th>\n",
       "      <th>paragraph_id</th>\n",
       "      <th>text</th>\n",
       "      <th>length</th>\n",
       "      <th>embeddings</th>\n",
       "      <th>distances</th>\n",
       "    </tr>\n",
       "  </thead>\n",
       "  <tbody>\n",
       "    <tr>\n",
       "      <th>0</th>\n",
       "      <td>0</td>\n",
       "      <td>THE MAIN TEA ETA AUTOMAT U TEMAMA ANATUAN US 2...</td>\n",
       "      <td>1413</td>\n",
       "      <td>[-0.04450421  0.00668536 -0.00587228 ...  0.00...</td>\n",
       "      <td>0.173783</td>\n",
       "    </tr>\n",
       "    <tr>\n",
       "      <th>1</th>\n",
       "      <td>1</td>\n",
       "      <td>Patent Application Publication Oct . 4 , 2018 ...</td>\n",
       "      <td>93</td>\n",
       "      <td>[-0.01686547  0.00898822  0.01265579 ... -0.00...</td>\n",
       "      <td>0.275675</td>\n",
       "    </tr>\n",
       "    <tr>\n",
       "      <th>2</th>\n",
       "      <td>2</td>\n",
       "      <td>Patent Application Publication Oct . 4 , 2018 ...</td>\n",
       "      <td>168</td>\n",
       "      <td>[-0.03766415  0.00795912  0.00553091 ...  0.00...</td>\n",
       "      <td>0.299493</td>\n",
       "    </tr>\n",
       "    <tr>\n",
       "      <th>3</th>\n",
       "      <td>3</td>\n",
       "      <td>Patent Application Publication Oct . 4 , 2018 ...</td>\n",
       "      <td>142</td>\n",
       "      <td>[-0.02859115  0.0031247   0.01342997 ...  0.00...</td>\n",
       "      <td>0.280244</td>\n",
       "    </tr>\n",
       "    <tr>\n",
       "      <th>4</th>\n",
       "      <td>4</td>\n",
       "      <td>Patent Application Publication Oct . 4 , 2018 ...</td>\n",
       "      <td>256</td>\n",
       "      <td>[-0.03180185 -0.00398844  0.00010493 ...  0.00...</td>\n",
       "      <td>0.286048</td>\n",
       "    </tr>\n",
       "    <tr>\n",
       "      <th>...</th>\n",
       "      <td>...</td>\n",
       "      <td>...</td>\n",
       "      <td>...</td>\n",
       "      <td>...</td>\n",
       "      <td>...</td>\n",
       "    </tr>\n",
       "    <tr>\n",
       "      <th>95</th>\n",
       "      <td>95</td>\n",
       "      <td>US 2018 / 0282715 Al Oct . 4 , 2018 90 \\n - co...</td>\n",
       "      <td>1945</td>\n",
       "      <td>[-0.02059712 -0.01116544 -0.02790667 ... -0.03...</td>\n",
       "      <td>0.281965</td>\n",
       "    </tr>\n",
       "    <tr>\n",
       "      <th>96</th>\n",
       "      <td>96</td>\n",
       "      <td>US 2018 / 0282715 Al Oct . 4 , 2018 \\n - conti...</td>\n",
       "      <td>2072</td>\n",
       "      <td>[-0.0264446  -0.01601345 -0.03496066 ... -0.03...</td>\n",
       "      <td>0.299942</td>\n",
       "    </tr>\n",
       "    <tr>\n",
       "      <th>97</th>\n",
       "      <td>97</td>\n",
       "      <td>US 2018 / 0282715 Al Oct . 4 , 2018 92 . . \\n ...</td>\n",
       "      <td>1982</td>\n",
       "      <td>[-0.02589197 -0.0122796  -0.03976119 ... -0.03...</td>\n",
       "      <td>0.289461</td>\n",
       "    </tr>\n",
       "    <tr>\n",
       "      <th>98</th>\n",
       "      <td>98</td>\n",
       "      <td>US 2018 / 0282715 Al Oct . 4 , 2018 \\n - conti...</td>\n",
       "      <td>2086</td>\n",
       "      <td>[-0.02847721 -0.03346458 -0.02478234 ... -0.02...</td>\n",
       "      <td>0.281179</td>\n",
       "    </tr>\n",
       "    <tr>\n",
       "      <th>99</th>\n",
       "      <td>99</td>\n",
       "      <td>US 2018 / 0282715 Al Oct . 4 , 2018 94 \\n - co...</td>\n",
       "      <td>2025</td>\n",
       "      <td>[-0.02881251 -0.01886825 -0.02824115 ... -0.02...</td>\n",
       "      <td>0.293287</td>\n",
       "    </tr>\n",
       "  </tbody>\n",
       "</table>\n",
       "<p>100 rows × 5 columns</p>\n",
       "</div>"
      ],
      "text/plain": [
       "    paragraph_id                                               text  length  \\\n",
       "0              0  THE MAIN TEA ETA AUTOMAT U TEMAMA ANATUAN US 2...    1413   \n",
       "1              1  Patent Application Publication Oct . 4 , 2018 ...      93   \n",
       "2              2  Patent Application Publication Oct . 4 , 2018 ...     168   \n",
       "3              3  Patent Application Publication Oct . 4 , 2018 ...     142   \n",
       "4              4  Patent Application Publication Oct . 4 , 2018 ...     256   \n",
       "..           ...                                                ...     ...   \n",
       "95            95  US 2018 / 0282715 Al Oct . 4 , 2018 90 \\n - co...    1945   \n",
       "96            96  US 2018 / 0282715 Al Oct . 4 , 2018 \\n - conti...    2072   \n",
       "97            97  US 2018 / 0282715 Al Oct . 4 , 2018 92 . . \\n ...    1982   \n",
       "98            98  US 2018 / 0282715 Al Oct . 4 , 2018 \\n - conti...    2086   \n",
       "99            99  US 2018 / 0282715 Al Oct . 4 , 2018 94 \\n - co...    2025   \n",
       "\n",
       "                                           embeddings  distances  \n",
       "0   [-0.04450421  0.00668536 -0.00587228 ...  0.00...   0.173783  \n",
       "1   [-0.01686547  0.00898822  0.01265579 ... -0.00...   0.275675  \n",
       "2   [-0.03766415  0.00795912  0.00553091 ...  0.00...   0.299493  \n",
       "3   [-0.02859115  0.0031247   0.01342997 ...  0.00...   0.280244  \n",
       "4   [-0.03180185 -0.00398844  0.00010493 ...  0.00...   0.286048  \n",
       "..                                                ...        ...  \n",
       "95  [-0.02059712 -0.01116544 -0.02790667 ... -0.03...   0.281965  \n",
       "96  [-0.0264446  -0.01601345 -0.03496066 ... -0.03...   0.299942  \n",
       "97  [-0.02589197 -0.0122796  -0.03976119 ... -0.03...   0.289461  \n",
       "98  [-0.02847721 -0.03346458 -0.02478234 ... -0.02...   0.281179  \n",
       "99  [-0.02881251 -0.01886825 -0.02824115 ... -0.02...   0.293287  \n",
       "\n",
       "[100 rows x 5 columns]"
      ]
     },
     "execution_count": 91,
     "metadata": {},
     "output_type": "execute_result"
    }
   ],
   "source": [
    "import pandas as pd\n",
    "df = pd.read_csv(\"distances.csv\", index_col=0)\n",
    "df"
   ]
  },
  {
   "cell_type": "code",
   "execution_count": 92,
   "id": "ce261cc5",
   "metadata": {},
   "outputs": [],
   "source": [
    "for text in df[\"text\"].values:\n",
    "    text_token_count = len(tokenizer.encode(text))\n",
    "    current_token_count += text_token_count\n",
    "    \n",
    "    if current_token_count <= max_token_count:\n",
    "        context.append(text)\n",
    "    else:\n",
    "        break # we do not want to keep adding text if we are over the limit"
   ]
  },
  {
   "cell_type": "code",
   "execution_count": 93,
   "id": "2b7cbe33",
   "metadata": {},
   "outputs": [
    {
     "data": {
      "text/plain": [
       "['THE MAIN TEA ETA AUTOMAT U TEMAMA ANATUAN US 20180282715A1 ( 19 ) United States ( 12 ) Patent Application Publication ( 10 ) Pub . No . : US 2018 / 0282715 A1 Carter et al . ( 43 ) Pub . Date : Oct . 4 , 2018 \\n ( 54 ) NOVEL CRISPR - ASSOCIATED ( CAS ) PROTEIN \\n ( 71 ) Applicant : Caribou Biosciences , Inc . , Berkeley , \\n CA ( US ) \\n ( 72 ) Inventors : Matthew Merrill Carter , Berkeley , CA ( US ) ; Paul Daniel Donohoue , Berkeley . \\n CA ( US ) Publication Classification \\n ( 51 ) Int . Cl . \\n C12N 9 / 22 ( 2006 . 01 ) \\n C12N 15 / 11 ( 2006 . 01 ) C12N 15 / 85 ( 2006 . 01 ) \\n C12N 15 / 113 ( 2006 . 01 ) \\n ( 52 ) U . S . Cl . ??? . . . . C12N 9 / 22 ( 2013 . 01 ) ; C12N 15 / 11 \\n ( 2013 . 01 ) ; C12N 2800 / 22 ( 2013 . 01 ) ; C12N 15 / 1136 ( 2013 . 01 ) ; C12N 2310 / 20 ( 2017 . 05 ) ; C12N 15 / 85 ( 2013 . 01 ) \\n ABSTRACT \\n A new CRISPR - associated ( Cas ) protein , termed “ CasM , ” is described , as well as polynucleotides encoding the same and methods of using CasM for site - specific genome engineer ing . CasM proteins are capable of targeting and cleaving \\n single - stranded RNA . Specification includes a Sequence Listing . ( 21 ) Appl . No . : 15 / 937 , 840 \\n ( 57 ) ( 22 ) Filed : Mar . 27 , 2018 \\n Related U . S . Application Data \\n ( 60 ) Provisional application No . 62 / 477 , 494 , filed on Mar . 28 , 2017 , provisional application No . 62 / 629 , 641 , filed on Feb . 12 , 2018 .',\n",
       " 'Patent Application Publication Oct . 4 , 2018 Sheet 1 of 5 US 2018 / 0282715 A1 \\nRKHK FIG . 1',\n",
       " 'Patent Application Publication Oct . 4 , 2018 Sheet 2 of 5 US 2018 / 0282715 A1 \\n 472 \\n 471 20 \\n . LIILOTTI 475 104 \\nLoe 470 - - - 473 \\n @ @ @ \\n O \\n 4 - \\n 474 \\n FIG . 2',\n",
       " 'Patent Application Publication Oct . 4 , 2018 Sheet 3 of 5 US 2018 / 0282715 A1 \\n| 1 | 2 | 3 | 4 5 6 7 1 2 . 3 4 5 6 \\n + 480 \\n - 481 \\n FIG . 3',\n",
       " \"Patent Application Publication Oct . 4 , 2018 Sheet 4 of 5 US 2018 / 0282715 A1 \\n 472 471 \\n 490 TIID 491 \\n 473 473 470 \\n FIG . 4 \\n 492 493 494 \\n TIID - \\n am 31 5 AL O ETSERIER \\n RET \\n 495 495 495 \\n 496 - \\n AP \\n 543 ' 498 496 53 ' 497 53 3 497 499 \\n FIG . 5\",\n",
       " 'Patent Application Publication Oct . 4 , 2018 Sheet 5 of 5 US 2018 / 0282715 A1 \\n . . . \\n . . . . . . . . . . . . . \\n . . . . 1 . . 1 . iii \\n st | 03 | | 41 | 4 | 01 | * * | 4 | 99 | 0 | 71 711 FIG . 6 \\n 501 - 500 - 502 503']"
      ]
     },
     "execution_count": 93,
     "metadata": {},
     "output_type": "execute_result"
    }
   ],
   "source": [
    "context"
   ]
  },
  {
   "cell_type": "code",
   "execution_count": 94,
   "id": "b9aaa42f",
   "metadata": {
    "scrolled": true
   },
   "outputs": [
    {
     "name": "stdout",
     "output_type": "stream",
     "text": [
      "\n",
      "Answer the question based on the context below, and if the question\n",
      "can't be answered based on the context, say \"I don't know\"\n",
      "\n",
      "Context:\n",
      "THE MAIN TEA ETA AUTOMAT U TEMAMA ANATUAN US 20180282715A1 ( 19 ) United States ( 12 ) Patent Application Publication ( 10 ) Pub . No . : US 2018 / 0282715 A1 Carter et al . ( 43 ) Pub . Date : Oct . 4 , 2018 \n",
      " ( 54 ) NOVEL CRISPR - ASSOCIATED ( CAS ) PROTEIN \n",
      " ( 71 ) Applicant : Caribou Biosciences , Inc . , Berkeley , \n",
      " CA ( US ) \n",
      " ( 72 ) Inventors : Matthew Merrill Carter , Berkeley , CA ( US ) ; Paul Daniel Donohoue , Berkeley . \n",
      " CA ( US ) Publication Classification \n",
      " ( 51 ) Int . Cl . \n",
      " C12N 9 / 22 ( 2006 . 01 ) \n",
      " C12N 15 / 11 ( 2006 . 01 ) C12N 15 / 85 ( 2006 . 01 ) \n",
      " C12N 15 / 113 ( 2006 . 01 ) \n",
      " ( 52 ) U . S . Cl . ??? . . . . C12N 9 / 22 ( 2013 . 01 ) ; C12N 15 / 11 \n",
      " ( 2013 . 01 ) ; C12N 2800 / 22 ( 2013 . 01 ) ; C12N 15 / 1136 ( 2013 . 01 ) ; C12N 2310 / 20 ( 2017 . 05 ) ; C12N 15 / 85 ( 2013 . 01 ) \n",
      " ABSTRACT \n",
      " A new CRISPR - associated ( Cas ) protein , termed “ CasM , ” is described , as well as polynucleotides encoding the same and methods of using CasM for site - specific genome engineer ing . CasM proteins are capable of targeting and cleaving \n",
      " single - stranded RNA . Specification includes a Sequence Listing . ( 21 ) Appl . No . : 15 / 937 , 840 \n",
      " ( 57 ) ( 22 ) Filed : Mar . 27 , 2018 \n",
      " Related U . S . Application Data \n",
      " ( 60 ) Provisional application No . 62 / 477 , 494 , filed on Mar . 28 , 2017 , provisional application No . 62 / 629 , 641 , filed on Feb . 12 , 2018 .\n",
      "\n",
      "###\n",
      "\n",
      "Patent Application Publication Oct . 4 , 2018 Sheet 1 of 5 US 2018 / 0282715 A1 \n",
      "RKHK FIG . 1\n",
      "\n",
      "###\n",
      "\n",
      "Patent Application Publication Oct . 4 , 2018 Sheet 2 of 5 US 2018 / 0282715 A1 \n",
      " 472 \n",
      " 471 20 \n",
      " . LIILOTTI 475 104 \n",
      "Loe 470 - - - 473 \n",
      " @ @ @ \n",
      " O \n",
      " 4 - \n",
      " 474 \n",
      " FIG . 2\n",
      "\n",
      "###\n",
      "\n",
      "Patent Application Publication Oct . 4 , 2018 Sheet 3 of 5 US 2018 / 0282715 A1 \n",
      "| 1 | 2 | 3 | 4 5 6 7 1 2 . 3 4 5 6 \n",
      " + 480 \n",
      " - 481 \n",
      " FIG . 3\n",
      "\n",
      "###\n",
      "\n",
      "Patent Application Publication Oct . 4 , 2018 Sheet 4 of 5 US 2018 / 0282715 A1 \n",
      " 472 471 \n",
      " 490 TIID 491 \n",
      " 473 473 470 \n",
      " FIG . 4 \n",
      " 492 493 494 \n",
      " TIID - \n",
      " am 31 5 AL O ETSERIER \n",
      " RET \n",
      " 495 495 495 \n",
      " 496 - \n",
      " AP \n",
      " 543 ' 498 496 53 ' 497 53 3 497 499 \n",
      " FIG . 5\n",
      "\n",
      "###\n",
      "\n",
      "Patent Application Publication Oct . 4 , 2018 Sheet 5 of 5 US 2018 / 0282715 A1 \n",
      " . . . \n",
      " . . . . . . . . . . . . . \n",
      " . . . . 1 . . 1 . iii \n",
      " st | 03 | | 41 | 4 | 01 | * * | 4 | 99 | 0 | 71 711 FIG . 6 \n",
      " 501 - 500 - 502 503\n",
      "\n",
      "---\n",
      "Question: What is CRISPR?\n",
      "Answer: \n"
     ]
    }
   ],
   "source": [
    "print (prompt_template.format(\"\\n\\n###\\n\\n\".join(context), question) )"
   ]
  },
  {
   "cell_type": "markdown",
   "id": "d8b8f5dd",
   "metadata": {},
   "source": [
    "## Step 4"
   ]
  },
  {
   "cell_type": "markdown",
   "id": "495a549a",
   "metadata": {},
   "source": [
    "### Getting a Custom Q&A Response with `openai.Completion`"
   ]
  },
  {
   "cell_type": "code",
   "execution_count": 96,
   "id": "626eb389",
   "metadata": {},
   "outputs": [
    {
     "name": "stdout",
     "output_type": "stream",
     "text": [
      "CRISPR stands for Clustered Regularly Interspaced Short Palindromic Repeats. It refers to a type of DNA sequence found in bacteria that can be used for gene editing and other genetic research purposes.\n"
     ]
    }
   ],
   "source": [
    "response = client.completions.create(\n",
    "    model=\"gpt-3.5-turbo-instruct\",\n",
    "    prompt=prompt_template.format(\"\\n\\n###\\n\\n\".join(context), question),\n",
    "    max_tokens=150\n",
    ")\n",
    "\n",
    "print(response.choices[0].text.strip())"
   ]
  },
  {
   "cell_type": "markdown",
   "id": "7a6fe8fa",
   "metadata": {},
   "source": [
    "# TL;DR - Automatic analasysis - RAG!"
   ]
  },
  {
   "cell_type": "code",
   "execution_count": 144,
   "id": "ad020fc6",
   "metadata": {},
   "outputs": [],
   "source": [
    "import tiktoken\n",
    "from openai import OpenAI\n",
    "\n",
    "EMBEDDING_MODEL_NAME = \"text-embedding-ada-002\"\n",
    "COMPLETION_MODEL_NAME = \"gpt-3.5-turbo-instruct\"\n",
    "\n",
    "# Get API key if not set\n",
    "if \"OPENAI_API_KEY\" not in os.environ:\n",
    "    os.environ[\"OPENAI_API_KEY\"] = getpass.getpass(\"Enter your OpenAI API key: \")\n",
    "\n",
    "# Initialize OpenAI client with optional base URL\n",
    "client_kwargs = {\"api_key\": os.environ[\"OPENAI_API_KEY\"]}\n",
    "if \"OPENAI_API_BASE\" in os.environ:\n",
    "    client_kwargs[\"base_url\"] = os.environ[\"OPENAI_API_BASE\"]\n",
    "\n",
    "client = OpenAI(**client_kwargs)\n",
    "\n",
    "def get_embeddings(texts):\n",
    "    try:\n",
    "        response = client.embeddings.create(\n",
    "            input=texts,\n",
    "            model=EMBEDDING_MODEL_NAME\n",
    "        )\n",
    "        return [embedding.embedding for embedding in response.data]\n",
    "    except Exception as e:\n",
    "        print(f\"Error creating embeddings: {e}\")\n",
    "        return None\n",
    "\n",
    "def get_rows_sorted_by_relevance(question, df):\n",
    "    \"\"\"\n",
    "    Function that takes in a question string and a dataframe containing\n",
    "    rows of text and associated embeddings, and returns that dataframe\n",
    "    sorted from least to most relevant for that question\n",
    "    \"\"\"\n",
    "\n",
    "    # Get embeddings for the question text\n",
    "    question_embeddings = get_embeddings(question)\n",
    "\n",
    "    # Make a copy of the dataframe and add a \"distances\" column containing\n",
    "    # the cosine distances between each row's embeddings and the\n",
    "    # embeddings of the question\n",
    "    df_copy = df.copy()\n",
    "    df_copy[\"distances\"] = distances_from_embeddings(\n",
    "        question_embeddings,\n",
    "        df_copy[\"embeddings\"].values\n",
    "    )\n",
    "\n",
    "    # Sort the copied dataframe by the distances and return it\n",
    "    # (shorter distance = more relevant so we sort in ascending order)\n",
    "    df_copy.sort_values(\"distances\", ascending=True, inplace=True)\n",
    "    return df_copy\n",
    "\n",
    "def create_prompt(question, df, max_token_count):\n",
    "    \"\"\"\n",
    "    Given a question and a dataframe containing rows of text and their\n",
    "    embeddings, return a text prompt to send to a Completion model\n",
    "    \"\"\"\n",
    "    # Create a tokenizer that is designed to align with our embeddings\n",
    "    tokenizer = tiktoken.get_encoding(\"cl100k_base\")\n",
    "\n",
    "    # Count the number of tokens in the prompt template and question\n",
    "    prompt_template = \"\"\"\n",
    "Answer the question based on the context below, and if the question\n",
    "can't be answered based on the context, say \"I don't know\"\n",
    "\n",
    "Context: \n",
    "\n",
    "{}\n",
    "\n",
    "---\n",
    "\n",
    "Question: {}\n",
    "Answer:\"\"\"\n",
    "\n",
    "    current_token_count = len(tokenizer.encode(prompt_template)) + \\\n",
    "                            len(tokenizer.encode(question))\n",
    "\n",
    "    context = []\n",
    "\n",
    "    df_distances = get_rows_sorted_by_relevance(question, df)[\"text\"]\n",
    "    \n",
    "    for text in df_distances.values:\n",
    "\n",
    "        # Increase the counter based on the number of tokens in this row\n",
    "        text_token_count = len(tokenizer.encode(text))\n",
    "        current_token_count += text_token_count\n",
    "\n",
    "        # Add the row of text to the list if we haven't exceeded the max\n",
    "        if current_token_count <= max_token_count:\n",
    "            context.append(text)\n",
    "        else:\n",
    "            break\n",
    "\n",
    "    # print(\"######### Custom Context #########\")\n",
    "    # print(context)\n",
    "    # print(\"######### End Custom Context #########\\n\")\n",
    "\n",
    "    return prompt_template.format(\"\\n\\n###\\n\\n\".join(context), question)\n",
    "\n",
    "def answer_question(\n",
    "    question, \n",
    "    df, \n",
    "    max_prompt_tokens=2048, \n",
    "    max_answer_tokens=1024\n",
    "):\n",
    "    \"\"\"\n",
    "    Given a question, a dataframe containing rows of text, and a maximum\n",
    "    number of desired tokens in the prompt and response, return the\n",
    "    answer to the question according to an OpenAI Completion model\n",
    "\n",
    "    If the model produces an error, return an empty string\n",
    "    \"\"\"\n",
    "\n",
    "    prompt = create_prompt(question, df, max_prompt_tokens)\n",
    "    \n",
    "    try:\n",
    "        response = client.completions.create(\n",
    "            model=COMPLETION_MODEL_NAME,\n",
    "            prompt=prompt,\n",
    "            max_tokens=max_answer_tokens\n",
    "        )\n",
    "        \n",
    "        return response.choices[0].text.strip()\n",
    "    except Exception as e:\n",
    "        print(e)\n",
    "        return \"\""
   ]
  },
  {
   "cell_type": "code",
   "execution_count": 135,
   "id": "538edb9a",
   "metadata": {},
   "outputs": [],
   "source": [
    "import numpy as np\n",
    "\n",
    "df = pd.read_csv(\"embeddings.csv\", index_col=0)\n",
    "df[\"embeddings\"] = df[\"embeddings\"].apply(eval).apply(np.array)"
   ]
  },
  {
   "cell_type": "code",
   "execution_count": null,
   "id": "d818563f",
   "metadata": {
    "scrolled": false
   },
   "outputs": [
    {
     "name": "stdout",
     "output_type": "stream",
     "text": [
      "Clustered Regularly Interspaced Short Palindromic Repeats\n"
     ]
    }
   ],
   "source": [
    "custom_answer = answer_question(\"What is CRISPR?\", df)\n",
    "print(custom_answer)"
   ]
  },
  {
   "cell_type": "code",
   "execution_count": 149,
   "id": "f23c4216",
   "metadata": {},
   "outputs": [
    {
     "name": "stdout",
     "output_type": "stream",
     "text": [
      "CRISPR is a tool that helps scientists edit genes, kind of like using scissors to change a recipe. It can help fix mistakes or make new changes in cells, which can lead to new and exciting discoveries in science and medicine!\n"
     ]
    }
   ],
   "source": [
    "custom_answer = answer_question(\"Explain what is CRISPR to a 10 years old kid\", df)\n",
    "print(custom_answer)"
   ]
  },
  {
   "cell_type": "code",
   "execution_count": 116,
   "id": "fe555404",
   "metadata": {
    "scrolled": false
   },
   "outputs": [
    {
     "name": "stdout",
     "output_type": "stream",
     "text": [
      "I don't know\n"
     ]
    }
   ],
   "source": [
    "custom_twitter_answer = answer_question(\"Who owns Twitter?\", df)\n",
    "print(custom_twitter_answer)"
   ]
  },
  {
   "cell_type": "code",
   "execution_count": 127,
   "id": "cdf4ca6e",
   "metadata": {},
   "outputs": [
    {
     "name": "stdout",
     "output_type": "stream",
     "text": [
      "- Patent Application Publication\n",
      "- Description of a new CRISPR-associated (Cas) protein called \"CasM\"\n",
      "- Methods of using CasM for site-specific genome engineering\n",
      "- Polynucleotides encoding CasM\n",
      "- CasM's ability to target and cleave single-stranded RNA\n",
      "- Use of CasM in creating a Sequence Listing\n",
      "- Filing of provisional applications in related U.S. Application Data\n",
      "- Patent Application Publication Sheet 1 of 5\n",
      "- Patent Application Publication Sheet 2 of 5\n"
     ]
    }
   ],
   "source": [
    "custom_question = answer_question(\"create bullet points for the main events of this text\", df)\n",
    "print(custom_question)"
   ]
  },
  {
   "cell_type": "code",
   "execution_count": 128,
   "id": "bb6cecc0",
   "metadata": {},
   "outputs": [
    {
     "name": "stdout",
     "output_type": "stream",
     "text": [
      "The application for this patent was filled by Caribou Biosciences, Inc. and the inventors listed are Matthew Merrill Carter and Paul Daniel Donohoue.\n"
     ]
    }
   ],
   "source": [
    "custom_question = answer_question(\"who filled this patent?\", df)\n",
    "print(custom_question)"
   ]
  },
  {
   "cell_type": "code",
   "execution_count": 139,
   "id": "5e355d80",
   "metadata": {},
   "outputs": [
    {
     "name": "stdout",
     "output_type": "stream",
     "text": [
      "######### Custom Context #########\n",
      "['Patent Application Publication Oct . 4 , 2018 Sheet 3 of 5 US 2018 / 0282715 A1 \\n| 1 | 2 | 3 | 4 5 6 7 1 2 . 3 4 5 6 \\n + 480 \\n - 481 \\n FIG . 3', \"Patent Application Publication Oct . 4 , 2018 Sheet 4 of 5 US 2018 / 0282715 A1 \\n 472 471 \\n 490 TIID 491 \\n 473 473 470 \\n FIG . 4 \\n 492 493 494 \\n TIID - \\n am 31 5 AL O ETSERIER \\n RET \\n 495 495 495 \\n 496 - \\n AP \\n 543 ' 498 496 53 ' 497 53 3 497 499 \\n FIG . 5\", 'Patent Application Publication Oct . 4 , 2018 Sheet 2 of 5 US 2018 / 0282715 A1 \\n 472 \\n 471 20 \\n . LIILOTTI 475 104 \\nLoe 470 - - - 473 \\n @ @ @ \\n O \\n 4 - \\n 474 \\n FIG . 2', 'Patent Application Publication Oct . 4 , 2018 Sheet 5 of 5 US 2018 / 0282715 A1 \\n . . . \\n . . . . . . . . . . . . . \\n . . . . 1 . . 1 . iii \\n st | 03 | | 41 | 4 | 01 | * * | 4 | 99 | 0 | 71 711 FIG . 6 \\n 501 - 500 - 502 503', 'Patent Application Publication Oct . 4 , 2018 Sheet 1 of 5 US 2018 / 0282715 A1 \\nRKHK FIG . 1', 'THE MAIN TEA ETA AUTOMAT U TEMAMA ANATUAN US 20180282715A1 ( 19 ) United States ( 12 ) Patent Application Publication ( 10 ) Pub . No . : US 2018 / 0282715 A1 Carter et al . ( 43 ) Pub . Date : Oct . 4 , 2018 \\n ( 54 ) NOVEL CRISPR - ASSOCIATED ( CAS ) PROTEIN \\n ( 71 ) Applicant : Caribou Biosciences , Inc . , Berkeley , \\n CA ( US ) \\n ( 72 ) Inventors : Matthew Merrill Carter , Berkeley , CA ( US ) ; Paul Daniel Donohoue , Berkeley . \\n CA ( US ) Publication Classification \\n ( 51 ) Int . Cl . \\n C12N 9 / 22 ( 2006 . 01 ) \\n C12N 15 / 11 ( 2006 . 01 ) C12N 15 / 85 ( 2006 . 01 ) \\n C12N 15 / 113 ( 2006 . 01 ) \\n ( 52 ) U . S . Cl . ??? . . . . C12N 9 / 22 ( 2013 . 01 ) ; C12N 15 / 11 \\n ( 2013 . 01 ) ; C12N 2800 / 22 ( 2013 . 01 ) ; C12N 15 / 1136 ( 2013 . 01 ) ; C12N 2310 / 20 ( 2017 . 05 ) ; C12N 15 / 85 ( 2013 . 01 ) \\n ABSTRACT \\n A new CRISPR - associated ( Cas ) protein , termed “ CasM , ” is described , as well as polynucleotides encoding the same and methods of using CasM for site - specific genome engineer ing . CasM proteins are capable of targeting and cleaving \\n single - stranded RNA . Specification includes a Sequence Listing . ( 21 ) Appl . No . : 15 / 937 , 840 \\n ( 57 ) ( 22 ) Filed : Mar . 27 , 2018 \\n Related U . S . Application Data \\n ( 60 ) Provisional application No . 62 / 477 , 494 , filed on Mar . 28 , 2017 , provisional application No . 62 / 629 , 641 , filed on Feb . 12 , 2018 .']\n",
      "######### End Custom Context #########\n",
      "\n",
      "Answer:\n",
      "The patent was published on October 4, 2018.\n"
     ]
    }
   ],
   "source": [
    "custom_question = answer_question(\"when was the patent published?\", df)\n",
    "print(f\"Answer:\\n{custom_question}\")"
   ]
  },
  {
   "cell_type": "code",
   "execution_count": 148,
   "id": "cd30921e",
   "metadata": {},
   "outputs": [
    {
     "name": "stdout",
     "output_type": "stream",
     "text": [
      "Answer:\n",
      "Genomic DNA is a segment of a chromosome in the genome of a host cell, which may include portions of a nucleic acid target sequence site.\n"
     ]
    }
   ],
   "source": [
    "custom_question = answer_question(\"what is Genomic DNA?\", df)\n",
    "print(f\"Answer:\\n{custom_question}\")"
   ]
  },
  {
   "cell_type": "code",
   "execution_count": 147,
   "id": "10c6d56d",
   "metadata": {},
   "outputs": [
    {
     "name": "stdout",
     "output_type": "stream",
     "text": [
      "Genomic DNA is like a blueprint for our body. It contains all the information that makes us who we are, like our eye color, height, and even our personalities! Scientists use it to learn more about how our bodies work and how we can stay healthy.\n"
     ]
    }
   ],
   "source": [
    "custom_question = answer_question(\"explain what is Genomic DNA to a 10 years old kid?\", df)\n",
    "print(custom_question)"
   ]
  },
  {
   "cell_type": "code",
   "execution_count": 150,
   "id": "73d6f3a8",
   "metadata": {},
   "outputs": [
    {
     "name": "stdout",
     "output_type": "stream",
     "text": [
      "I don't know\n"
     ]
    }
   ],
   "source": [
    "custom_answer = answer_question(\"For how long has been CRISPR in research and development?\", df)\n",
    "print(custom_answer)"
   ]
  },
  {
   "cell_type": "code",
   "execution_count": 156,
   "id": "4ebc3e75",
   "metadata": {},
   "outputs": [
    {
     "name": "stdout",
     "output_type": "stream",
     "text": [
      "The background of the invention includes a new CRISPR-associated (Cas) protein called \"CasM,\" polynucleotides encoding this protein, and methods of using it for site-specific genome engineering\n",
      " It also mentions a Sequence Listing and related US application data, including provisional applications filed in 2017 and 2018\n",
      "\n"
     ]
    }
   ],
   "source": [
    "custom_answer = answer_question(\"What can you tell me about the BACKGROUND OF THE INVENTION?\", df)\n",
    "text = custom_answer.split(\".\")\n",
    "\n",
    "for t in text:\n",
    "    print(t)"
   ]
  },
  {
   "cell_type": "code",
   "execution_count": 154,
   "id": "dfe1e980",
   "metadata": {},
   "outputs": [
    {
     "name": "stdout",
     "output_type": "stream",
     "text": [
      "The invention is about a new kind of protein called CasM that can help make specific changes to genetic material in living things\n",
      " It can target and cut single strands of RNA, which is like the instructions that cells follow to do their jobs\n",
      " This invention can help scientists study and change how living things grow and develop\n",
      " It's like a special tool that can make tiny changes to things inside our bodies\n",
      "\n"
     ]
    }
   ],
   "source": [
    "custom_answer = answer_question(\"Explain the BACKGROUND OF THE INVENTION to a 10 year old kid\", df)\n",
    "text = custom_answer.split(\".\")\n",
    "\n",
    "for t in text:\n",
    "    print(t)"
   ]
  },
  {
   "cell_type": "code",
   "execution_count": 157,
   "id": "c8c4edd8",
   "metadata": {},
   "outputs": [
    {
     "name": "stdout",
     "output_type": "stream",
     "text": [
      "The invention is a new CRISPR-associated protein called CasM that can target and cleave single-stranded RNA\n",
      " The protein has been found to be useful for site-specific genome engineering\n",
      " The application also includes polynucleotides encoding CasM and describes methods for using the protein\n",
      "\n"
     ]
    }
   ],
   "source": [
    "custom_answer = answer_question(\"Sum up the SUMMARY of the invention\", df)\n",
    "text = custom_answer.split(\".\")\n",
    "\n",
    "for t in text:\n",
    "    print(t)"
   ]
  },
  {
   "cell_type": "code",
   "execution_count": 158,
   "id": "4e434871",
   "metadata": {},
   "outputs": [
    {
     "name": "stdout",
     "output_type": "stream",
     "text": [
      "Yes\n"
     ]
    }
   ],
   "source": [
    "custom_answer = answer_question(\"does the invention mentions a method of screening and killing cells?\", df)\n",
    "text = custom_answer.split(\".\")\n",
    "\n",
    "for t in text:\n",
    "    print(t)"
   ]
  },
  {
   "cell_type": "code",
   "execution_count": 159,
   "id": "9cea9932",
   "metadata": {},
   "outputs": [
    {
     "name": "stdout",
     "output_type": "stream",
     "text": [
      "The method involves contacting a NATNA / Cas9 complex to a locus of interest in a population of cells, resulting in DNA cleavage and subsequent repair of the break by the endogenous cellular repair machine\n",
      " This introduces indels at the break site\n",
      " The targeting of the NATNA / Cas9 complex to a targeted locus that encodes an RNA transcript results in indels in an RNA transcript sequence\n",
      " This modified RNA transcript sequence is then targeted by a crRNA / CasM complex, resulting in activation of the CasM protein and subsequent cell death\n",
      " This method can be adapted to screen for the incorporation of a donor-poly nucleotide into the NATNA / Cas9 break site\n",
      "\n"
     ]
    }
   ],
   "source": [
    "custom_answer = answer_question(\"explain the method of screening and killing cells\", df)\n",
    "text = custom_answer.split(\".\")\n",
    "\n",
    "for t in text:\n",
    "    print(t)"
   ]
  },
  {
   "cell_type": "code",
   "execution_count": 160,
   "id": "a981b9b7",
   "metadata": {},
   "outputs": [
    {
     "name": "stdout",
     "output_type": "stream",
     "text": [
      "Scientists used special molecules called crRNAs and a protein called CasM to help find and destroy bad cells in the lab\n",
      " They do this by putting the bad cells in a nutritious soup called lysogeny broth, adding a special sauce called carbenicillin to it, and then making a jello-like substance on top\n",
      " They also put a tiny amount of something called MS2 phage on top\n",
      " After waiting overnight, they look to see if any holes have formed in the jello, which would mean the bad cells have been destroyed\n",
      " They also put the same soup on different plates with different ingredients to make sure the crRNAs and CasM only kill the bad cells and not the good ones\n",
      " Instead of using a microscope, they use a machine called a flow cytometer to look at the cells and see if the bad ones are gone\n",
      " This helps them understand how the crRNAs and CasM work and how to make them better at fighting diseases\n",
      "\n"
     ]
    }
   ],
   "source": [
    "custom_answer = answer_question(\"explain the method of screening and killing cells to a 10 years old kid\", df)\n",
    "text = custom_answer.split(\".\")\n",
    "\n",
    "for t in text:\n",
    "    print(t)"
   ]
  },
  {
   "cell_type": "code",
   "execution_count": null,
   "id": "83c3b23a",
   "metadata": {},
   "outputs": [],
   "source": []
  }
 ],
 "metadata": {
  "kernelspec": {
   "display_name": "base",
   "language": "python",
   "name": "python3"
  },
  "language_info": {
   "codemirror_mode": {
    "name": "ipython",
    "version": 3
   },
   "file_extension": ".py",
   "mimetype": "text/x-python",
   "name": "python",
   "nbconvert_exporter": "python",
   "pygments_lexer": "ipython3",
   "version": "3.11.8"
  }
 },
 "nbformat": 4,
 "nbformat_minor": 5
}
